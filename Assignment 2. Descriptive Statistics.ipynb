{
 "cells": [
  {
   "cell_type": "markdown",
   "metadata": {},
   "source": [
    "# Assignment 2 - Descriptive statistics\n",
    "Probability and Statistics<br>\n",
    "2020<br>\n",
    "Andrey Verbovskiy<br>\n",
    "[Helsinki Metropolia University of Applied Sciences](https://www.metropolia.fi/en)"
   ]
  },
  {
   "cell_type": "code",
   "execution_count": 2,
   "metadata": {},
   "outputs": [
    {
     "name": "stdout",
     "output_type": "stream",
     "text": [
      "Populating the interactive namespace from numpy and matplotlib\n"
     ]
    }
   ],
   "source": [
    "# Import libraries\n",
    "%pylab inline\n",
    "import pandas as pd\n",
    "import seaborn as sns"
   ]
  },
  {
   "cell_type": "code",
   "execution_count": 3,
   "metadata": {},
   "outputs": [],
   "source": [
    "# Read the example data\n",
    "file = \"https://archive.ics.uci.edu/ml/machine-learning-databases/heart-disease/processed.cleveland.data\"\n",
    "sep = \",\"\n",
    "data = pd.read_csv(file, sep, header = None)\n",
    "data.columns = ['age', 'sex','chest_pain_type','resting_blood_pressure', 'serum_cholesterol','fasting_blood_sugar', \n",
    "                'resting_ecg','max_heart_rate','exercise_angina','oldpeak','slope_st_segment','number_of_vessels','thal','heart_disease']\n",
    "\n"
   ]
  },
  {
   "cell_type": "markdown",
   "metadata": {},
   "source": [
    "Information about the data: https://www.kaggle.com/ronitf/heart-disease-uci"
   ]
  },
  {
   "cell_type": "markdown",
   "metadata": {},
   "source": [
    "## Problem 1\n",
    "Using the example data compare the `age` data for men and women. \n",
    "\n",
    "- Calculate the descriptive statistics of age for both groups (men and women).\n",
    "- Plot the age distribution (=histogram) for both groups (men and women). Pay special attention for the bins settings.\n",
    "\n",
    "Compare the distributions and the statistical values between the groups.\n",
    "- How many datapoints there are on each group (men and women)?\n",
    "- What are the highest and lowest values for each group?\n",
    "- How much do the mean values differ between men and women?\n",
    "- Explain on your own words what similarities and differences there are in the age distributions between men and women in this dataset."
   ]
  },
  {
   "cell_type": "code",
   "execution_count": 4,
   "metadata": {},
   "outputs": [
    {
     "data": {
      "image/png": "[encoded data removed]",
      "text/plain": [
       "<Figure size 432x288 with 1 Axes>"
      ]
     },
     "metadata": {
      "needs_background": "light"
     },
     "output_type": "display_data"
    }
   ],
   "source": [
    "# Your code\n",
    "groups = data.groupby('sex')\n",
    "groups['age'].describe()  #describe was used to collect data about mean,min,max,count\n",
    "groups['age'].std()\n",
    "\n",
    "groups['age'].hist(bins=2)\n",
    "plt.xlabel('age')\n",
    "plt.ylabel('sex')\n",
    "plt.title('Age distribution')\n",
    "show()"
   ]
  },
  {
   "cell_type": "code",
   "execution_count": 5,
   "metadata": {},
   "outputs": [
    {
     "data": {
      "text/html": [
       "<div>\n",
       "<style scoped>\n",
       "    .dataframe tbody tr th:only-of-type {\n",
       "        vertical-align: middle;\n",
       "    }\n",
       "\n",
       "    .dataframe tbody tr th {\n",
       "        vertical-align: top;\n",
       "    }\n",
       "\n",
       "    .dataframe thead tr th {\n",
       "        text-align: left;\n",
       "    }\n",
       "\n",
       "    .dataframe thead tr:last-of-type th {\n",
       "        text-align: right;\n",
       "    }\n",
       "</style>\n",
       "<table border=\"1\" class=\"dataframe\">\n",
       "  <thead>\n",
       "    <tr>\n",
       "      <th></th>\n",
       "      <th colspan=\"8\" halign=\"left\">age</th>\n",
       "      <th colspan=\"2\" halign=\"left\">chest_pain_type</th>\n",
       "      <th>...</th>\n",
       "      <th colspan=\"2\" halign=\"left\">slope_st_segment</th>\n",
       "      <th colspan=\"8\" halign=\"left\">heart_disease</th>\n",
       "    </tr>\n",
       "    <tr>\n",
       "      <th></th>\n",
       "      <th>count</th>\n",
       "      <th>mean</th>\n",
       "      <th>std</th>\n",
       "      <th>min</th>\n",
       "      <th>25%</th>\n",
       "      <th>50%</th>\n",
       "      <th>75%</th>\n",
       "      <th>max</th>\n",
       "      <th>count</th>\n",
       "      <th>mean</th>\n",
       "      <th>...</th>\n",
       "      <th>75%</th>\n",
       "      <th>max</th>\n",
       "      <th>count</th>\n",
       "      <th>mean</th>\n",
       "      <th>std</th>\n",
       "      <th>min</th>\n",
       "      <th>25%</th>\n",
       "      <th>50%</th>\n",
       "      <th>75%</th>\n",
       "      <th>max</th>\n",
       "    </tr>\n",
       "    <tr>\n",
       "      <th>sex</th>\n",
       "      <th></th>\n",
       "      <th></th>\n",
       "      <th></th>\n",
       "      <th></th>\n",
       "      <th></th>\n",
       "      <th></th>\n",
       "      <th></th>\n",
       "      <th></th>\n",
       "      <th></th>\n",
       "      <th></th>\n",
       "      <th></th>\n",
       "      <th></th>\n",
       "      <th></th>\n",
       "      <th></th>\n",
       "      <th></th>\n",
       "      <th></th>\n",
       "      <th></th>\n",
       "      <th></th>\n",
       "      <th></th>\n",
       "      <th></th>\n",
       "      <th></th>\n",
       "    </tr>\n",
       "  </thead>\n",
       "  <tbody>\n",
       "    <tr>\n",
       "      <th>0.0</th>\n",
       "      <td>97.0</td>\n",
       "      <td>55.721649</td>\n",
       "      <td>9.370546</td>\n",
       "      <td>34.0</td>\n",
       "      <td>50.0</td>\n",
       "      <td>57.0</td>\n",
       "      <td>63.00</td>\n",
       "      <td>76.0</td>\n",
       "      <td>97.0</td>\n",
       "      <td>3.144330</td>\n",
       "      <td>...</td>\n",
       "      <td>2.0</td>\n",
       "      <td>3.0</td>\n",
       "      <td>97.0</td>\n",
       "      <td>0.536082</td>\n",
       "      <td>1.041452</td>\n",
       "      <td>0.0</td>\n",
       "      <td>0.0</td>\n",
       "      <td>0.0</td>\n",
       "      <td>1.0</td>\n",
       "      <td>4.0</td>\n",
       "    </tr>\n",
       "    <tr>\n",
       "      <th>1.0</th>\n",
       "      <td>206.0</td>\n",
       "      <td>53.834951</td>\n",
       "      <td>8.836838</td>\n",
       "      <td>29.0</td>\n",
       "      <td>47.0</td>\n",
       "      <td>54.5</td>\n",
       "      <td>59.75</td>\n",
       "      <td>77.0</td>\n",
       "      <td>206.0</td>\n",
       "      <td>3.165049</td>\n",
       "      <td>...</td>\n",
       "      <td>2.0</td>\n",
       "      <td>3.0</td>\n",
       "      <td>206.0</td>\n",
       "      <td>1.126214</td>\n",
       "      <td>1.266296</td>\n",
       "      <td>0.0</td>\n",
       "      <td>0.0</td>\n",
       "      <td>1.0</td>\n",
       "      <td>2.0</td>\n",
       "      <td>4.0</td>\n",
       "    </tr>\n",
       "  </tbody>\n",
       "</table>\n",
       "<p>2 rows × 88 columns</p>\n",
       "</div>"
      ],
      "text/plain": [
       "       age                                                      \\\n",
       "     count       mean       std   min   25%   50%    75%   max   \n",
       "sex                                                              \n",
       "0.0   97.0  55.721649  9.370546  34.0  50.0  57.0  63.00  76.0   \n",
       "1.0  206.0  53.834951  8.836838  29.0  47.0  54.5  59.75  77.0   \n",
       "\n",
       "    chest_pain_type            ... slope_st_segment      heart_disease  \\\n",
       "              count      mean  ...              75%  max         count   \n",
       "sex                            ...                                       \n",
       "0.0            97.0  3.144330  ...              2.0  3.0          97.0   \n",
       "1.0           206.0  3.165049  ...              2.0  3.0         206.0   \n",
       "\n",
       "                                                  \n",
       "         mean       std  min  25%  50%  75%  max  \n",
       "sex                                               \n",
       "0.0  0.536082  1.041452  0.0  0.0  0.0  1.0  4.0  \n",
       "1.0  1.126214  1.266296  0.0  0.0  1.0  2.0  4.0  \n",
       "\n",
       "[2 rows x 88 columns]"
      ]
     },
     "execution_count": 5,
     "metadata": {},
     "output_type": "execute_result"
    }
   ],
   "source": [
    "groups.describe()"
   ]
  },
  {
   "cell_type": "markdown",
   "metadata": {},
   "source": [
    "**Your answers**\n",
    "\n",
    "a) female:97  male:206\n",
    "\n",
    "b)female: min = 34.0 max = 76.0   male: min = 29.0  max = 77.0\n",
    "\n",
    "c)55.721649 - 53.834951 = 1.8866980000000027\n",
    "\n",
    "d)male result are much more diverse, their max values ar almost the same, yet min values differ significantly."
   ]
  },
  {
   "cell_type": "markdown",
   "metadata": {},
   "source": [
    "## Problem 2\n",
    "\n",
    "Study the *resting blood pressure* values. Group the data by the *chest pain type*.\n",
    "\n",
    "Coding:\n",
    "- Find out the mean, standard deviation, min, max, and [quartile values](https://en.wikipedia.org/wiki/Quartile) for the *resting blood pressure* for each group.\n",
    "- Create a histogram for the *resting blood pressure* for each group. Pay special attention to the bins settings.\n",
    "- Create a [boxplot](https://pandas.pydata.org/pandas-docs/stable/reference/api/pandas.DataFrame.boxplot.html) for the *resting blood pressure* for each group.\n",
    "\n",
    "Questions:\n",
    "- How many *outliers* are there for the each group?\n",
    "- Which one of the groups have the lowest mean value?\n",
    "- How easy it is to see the differences between the groups in the histograms?\n",
    "- Is histogram or boxplot easier to see the differences between the groups in this case? Explain why in your own words.\n",
    "\n",
    "Tip:\n",
    "- You can use the *resting blood pressure* as `column` and the *chest pain type* as `by` parameter in boxplotting.\n",
    "- You might also need to expand the figure size (see `figsize` parameter in boxplot documentation)."
   ]
  },
  {
   "cell_type": "code",
   "execution_count": 6,
   "metadata": {},
   "outputs": [
    {
     "data": {
      "image/png": "[encoded data removed]",
      "text/plain": [
       "<Figure size 432x288 with 1 Axes>"
      ]
     },
     "metadata": {
      "needs_background": "light"
     },
     "output_type": "display_data"
    }
   ],
   "source": [
    "# Your code\n",
    "data.describe()\n",
    "groups2 = data.groupby('chest_pain_type')\n",
    "groups2.describe()\n",
    "rbp = groups2['resting_blood_pressure']\n",
    "rbp.describe()\n",
    "data.groupby('chest_pain_type')['resting_blood_pressure'].plot.hist(bins = np.arange(128.0, 201.0, 1.0))\n",
    "plt.legend()\n",
    "plt.grid()\n",
    "plt.show()"
   ]
  },
  {
   "cell_type": "code",
   "execution_count": 7,
   "metadata": {},
   "outputs": [
    {
     "data": {
      "image/png": "[encoded data removed]",
      "text/plain": [
       "<Figure size 720x720 with 4 Axes>"
      ]
     },
     "metadata": {
      "needs_background": "light"
     },
     "output_type": "display_data"
    }
   ],
   "source": [
    "rbp.describe()\n",
    "boxplot = groups2.boxplot(column = 'resting_blood_pressure', by = 'chest_pain_type', figsize = [10,10])\n",
    "\n",
    "plt.show()"
   ]
  },
  {
   "cell_type": "code",
   "execution_count": 21,
   "metadata": {},
   "outputs": [
    {
     "data": {
      "text/html": [
       "<div>\n",
       "<style scoped>\n",
       "    .dataframe tbody tr th:only-of-type {\n",
       "        vertical-align: middle;\n",
       "    }\n",
       "\n",
       "    .dataframe tbody tr th {\n",
       "        vertical-align: top;\n",
       "    }\n",
       "\n",
       "    .dataframe thead th {\n",
       "        text-align: right;\n",
       "    }\n",
       "</style>\n",
       "<table border=\"1\" class=\"dataframe\">\n",
       "  <thead>\n",
       "    <tr style=\"text-align: right;\">\n",
       "      <th></th>\n",
       "      <th>count</th>\n",
       "      <th>mean</th>\n",
       "      <th>std</th>\n",
       "      <th>min</th>\n",
       "      <th>25%</th>\n",
       "      <th>50%</th>\n",
       "      <th>75%</th>\n",
       "      <th>max</th>\n",
       "    </tr>\n",
       "    <tr>\n",
       "      <th>chest_pain_type</th>\n",
       "      <th></th>\n",
       "      <th></th>\n",
       "      <th></th>\n",
       "      <th></th>\n",
       "      <th></th>\n",
       "      <th></th>\n",
       "      <th></th>\n",
       "      <th></th>\n",
       "    </tr>\n",
       "  </thead>\n",
       "  <tbody>\n",
       "    <tr>\n",
       "      <th>1.0</th>\n",
       "      <td>23.0</td>\n",
       "      <td>140.869565</td>\n",
       "      <td>19.573415</td>\n",
       "      <td>110.0</td>\n",
       "      <td>122.5</td>\n",
       "      <td>140.0</td>\n",
       "      <td>151.0</td>\n",
       "      <td>178.0</td>\n",
       "    </tr>\n",
       "    <tr>\n",
       "      <th>2.0</th>\n",
       "      <td>50.0</td>\n",
       "      <td>128.400000</td>\n",
       "      <td>15.837182</td>\n",
       "      <td>101.0</td>\n",
       "      <td>120.0</td>\n",
       "      <td>128.0</td>\n",
       "      <td>133.5</td>\n",
       "      <td>192.0</td>\n",
       "    </tr>\n",
       "    <tr>\n",
       "      <th>3.0</th>\n",
       "      <td>86.0</td>\n",
       "      <td>130.290698</td>\n",
       "      <td>16.548585</td>\n",
       "      <td>94.0</td>\n",
       "      <td>120.0</td>\n",
       "      <td>130.0</td>\n",
       "      <td>140.0</td>\n",
       "      <td>180.0</td>\n",
       "    </tr>\n",
       "    <tr>\n",
       "      <th>4.0</th>\n",
       "      <td>144.0</td>\n",
       "      <td>132.201389</td>\n",
       "      <td>18.102884</td>\n",
       "      <td>100.0</td>\n",
       "      <td>120.0</td>\n",
       "      <td>130.0</td>\n",
       "      <td>140.0</td>\n",
       "      <td>200.0</td>\n",
       "    </tr>\n",
       "  </tbody>\n",
       "</table>\n",
       "</div>"
      ],
      "text/plain": [
       "                 count        mean        std    min    25%    50%    75%  \\\n",
       "chest_pain_type                                                             \n",
       "1.0               23.0  140.869565  19.573415  110.0  122.5  140.0  151.0   \n",
       "2.0               50.0  128.400000  15.837182  101.0  120.0  128.0  133.5   \n",
       "3.0               86.0  130.290698  16.548585   94.0  120.0  130.0  140.0   \n",
       "4.0              144.0  132.201389  18.102884  100.0  120.0  130.0  140.0   \n",
       "\n",
       "                   max  \n",
       "chest_pain_type         \n",
       "1.0              178.0  \n",
       "2.0              192.0  \n",
       "3.0              180.0  \n",
       "4.0              200.0  "
      ]
     },
     "execution_count": 21,
     "metadata": {},
     "output_type": "execute_result"
    }
   ],
   "source": [
    "#finding outliers in other way (iloc???)\n",
    "rbp.quantile([0.25,0.75])\n",
    "\n",
    "# Q3-Q1\n",
    "\n",
    "a = 151.0 - 122.5\n",
    "b = 133.5 - 120.0\n",
    "c = 140.0 - 120.0\n",
    "d = 140.0 - 120.0\n",
    "\n",
    "# IQR * 1.5\n",
    "\n",
    "a = a * 1.5\n",
    "b = b * 1.5\n",
    "c = c * 1.5\n",
    "d = d * 1.5\n",
    "\n",
    "#lower limit (Q1 - 1.5IQR)\n",
    "\n",
    "a1 = 122.5 - a\n",
    "b1 = 120.0 - b\n",
    "c1 = 120.0 - c\n",
    "d1 = 120.0 - d\n",
    "\n",
    "#upper limit (Q3 + 1.5IQR)\n",
    "\n",
    "a2 = 151.0 + a\n",
    "b2 = 133.5 + b\n",
    "c2 = 140.0 + c\n",
    "d2 = 140.0 + d\n",
    "\n",
    "#looking for outliers\n",
    "\n",
    "\n",
    "rbp.describe()\n"
   ]
  },
  {
   "cell_type": "markdown",
   "metadata": {},
   "source": [
    "# **Answers**:\n",
    "\n",
    "a) group 1: 0 , group 2: 4 , group 3: 2 , group 4: 4\n",
    "\n",
    "b)2\n",
    "\n",
    "c)it is pretty hard, as amount of samples in each group is different. Group 4 has much more data pieces than the rest and it litterally makes it almost impossible to see the histograms of the rest of the groups.\n",
    "\n",
    "d)Boxplot picute is more clear if you are familiar with its concept, yet for a stranger, who has no clue about how it works, the histogram will be much more clear. Yet, the difference between group 4 and the rest is much more clear in histogram. "
   ]
  },
  {
   "cell_type": "markdown",
   "metadata": {},
   "source": [
    "## Problem 3\n",
    "Compare the *serum cholesterol* to the *resting blood pressure*.\n",
    "\n",
    "Coding:\n",
    "- Create a scatter-plot where *fasting blood sugar* is in the x-axis and *serum cholesterol* in y-axis.\n",
    "- Count how many percentage of the datapoints have *serum cholesterol* higher than 350 mg/ml.\n",
    "- Count how many percentage of the datatpoints have *resting blood pressure* higher than 190 mmHg.\n",
    "\n",
    "Questions:\n",
    "- By studying the graph evaluate if there are any outliers. Explain in your own words which are the outliers and why.\n",
    "- How strongly the *fasting blood sugar* and *serum cholesterol* are associated? Explain why in your own words."
   ]
  },
  {
   "cell_type": "code",
   "execution_count": 23,
   "metadata": {},
   "outputs": [
    {
     "data": {
      "image/png": "[encoded data removed]",
      "text/plain": [
       "<Figure size 432x288 with 1 Axes>"
      ]
     },
     "metadata": {
      "needs_background": "light"
     },
     "output_type": "display_data"
    }
   ],
   "source": [
    "# Your code\n",
    "plt.scatter(data['fasting_blood_sugar'], data['serum_cholesterol'])\n",
    "plt.xlabel('fasting_blood_sugar')\n",
    "plt.ylabel('serum_cholesterol')\n",
    "plt.show()\n",
    "data['serum_cholesterol'].count() # 303 in total\n",
    "(data['serum_cholesterol'] >350).sum()  # 8 values\n",
    "\n",
    "perc = 800/303  #2.6402640264026402%\n",
    "\n",
    "\n",
    "data['resting_blood_pressure'].count()  # 303 in total\n",
    "(data['resting_blood_pressure'] >190).sum() # 2 values\n",
    "\n",
    "perc1 = 200/303 # 0.6600660066006601%\n"
   ]
  },
  {
   "cell_type": "code",
   "execution_count": 28,
   "metadata": {},
   "outputs": [
    {
     "data": {
      "text/plain": [
       "5"
      ]
     },
     "execution_count": 28,
     "metadata": {},
     "output_type": "execute_result"
    }
   ],
   "source": [
    "#finding outliers\n",
    "\n",
    "data['serum_cholesterol'].describe()\n",
    "\n",
    "#Q3 - Q1\n",
    "\n",
    "a = 275 - 211\n",
    "\n",
    "# IQR * 1.5\n",
    "\n",
    "a = a * 1.5\n",
    "\n",
    "#lower limit (Q1 - 1.5IQR)\n",
    "\n",
    "a1 = 211 - a\n",
    "\n",
    "#upper limit (Q3 + 1.5IQR)\n",
    "\n",
    "a2 = 275 + a\n",
    "\n",
    "# searching for outliers\n",
    "\n",
    "(data['serum_cholesterol'] <a1).sum()  # 0 outliers below the lower limit\n",
    "(data['serum_cholesterol'] >a2).sum()  # 5 outliers above upper limit\n"
   ]
  },
  {
   "cell_type": "markdown",
   "metadata": {},
   "source": [
    "**Answers**:\n",
    "\n",
    "a)there are around 4 outliers judging from the scatter as these three points are placed too far from the rest, however in reality (judging from the calculations above) there are 5 outliers above the upper limit and 0 below the lower limit.\n",
    "\n",
    "b)according to my knowledge fasting blood sugar leads to many illnesses like serum cholesterol, which means that they are actually associated. By looking at the scatter plot we can see, that values got separated on two groups 0 and 1."
   ]
  },
  {
   "cell_type": "code",
   "execution_count": null,
   "metadata": {},
   "outputs": [],
   "source": []
  }
 ],
 "metadata": {
  "kernelspec": {
   "display_name": "Python 3",
   "language": "python",
   "name": "python3"
  },
  "language_info": {
   "codemirror_mode": {
    "name": "ipython",
    "version": 3
   },
   "file_extension": ".py",
   "mimetype": "text/x-python",
   "name": "python",
   "nbconvert_exporter": "python",
   "pygments_lexer": "ipython3",
   "version": "3.8.3"
  }
 },
 "nbformat": 4,
 "nbformat_minor": 4
}
