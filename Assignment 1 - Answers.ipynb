{
 "cells": [
  {
   "cell_type": "markdown",
   "metadata": {},
   "source": [
    "# Assignment 1 - Problems and Answers\n",
    "Probability and Statistics<br>\n",
    "Name(s): Andrey Verbovskiy<br>\n",
    "Date: 11/11/2020<br>\n",
    "[Helsinki Metropolia University of Applied Sciences](https://www.metropolia.fi/en)"
   ]
  },
  {
   "cell_type": "markdown",
   "metadata": {},
   "source": [
    "## Instructions\n",
    "\n",
    "- Edit your name and the date on the title cell (see above).\n",
    "- Read the problems (below) and study the codes and their outputs (See the *Assignment 1 - Codes* Notebook).\n",
    "- Write your answers to the Answers cells (below).\n",
    "- Use \"select and Enter\" for editing and \"CTRL+ENTER\" to close the cell.\n",
    "- Finally save the Notebook and upload it to OMA."
   ]
  },
  {
   "cell_type": "markdown",
   "metadata": {},
   "source": [
    "### Problem 1 - Descriptive statistics\n",
    "- a) How many rows of data (see the counts) are in the data set?\n",
    "- b) What is the mean value for the *sepal length*?\n",
    "- c) What is the minimum value for the *petal width*?\n",
    "- d) What are the names (= unique values) of the different *species*  in this dataset?"
   ]
  },
  {
   "cell_type": "markdown",
   "metadata": {},
   "source": [
    "**Answer(s)**:\n",
    "\n",
    "a)150 \n",
    "\n",
    "b)5.843333\n",
    "\n",
    "c)0.100000\n",
    "\n",
    "d)setosa versicolor virginica"
   ]
  },
  {
   "cell_type": "markdown",
   "metadata": {},
   "source": [
    "### Problem 2 - Reading the histogram and plots\n",
    "Study the distribution (=histogram) of the *sepal length* values.\n",
    "\n",
    "- a) Which *sepal length* values are the most common?\n",
    "  - (Tip: find the highest bar in the histogram and read the range on x-axis)\n",
    "- b) Compare the most common *sepal length* values to the *50% value* on the descriptive statistics. What do you observe?\n",
    "    - (Tip: you need also to study the code for problem 1)\n",
    "- c) What is the index (approximately) for the highest *sepal length* value?\n",
    "    - (Tip: see the plot of the sepal length values)"
   ]
  },
  {
   "cell_type": "markdown",
   "metadata": {},
   "source": [
    "**Answer(s)**:\n",
    "\n",
    "a)5.3-5.7\n",
    "\n",
    "b)slightly less (5.3-5.7 < 5.8)\n",
    "\n",
    "c)7.8"
   ]
  },
  {
   "cell_type": "markdown",
   "metadata": {},
   "source": [
    "### Problem 3 - Comparing the species groups\n",
    "\n",
    "Study the plots where the species groups are compared.\n",
    "\n",
    "- a) How much does the *mean sepal length* values differ for *setosa* and *versicolor* species?\n",
    "    - (Tip: study the descriptive statistics)\n",
    "- b) What is the range of the *most common sepal length values* in *setosa* species group?\n",
    "    - (Tip: study the histogram)\n",
    "- c) What is the range of the *most common sepal length values* in *versicolor* species group?\n",
    "    - (Tip: study the histogram)"
   ]
  },
  {
   "cell_type": "markdown",
   "metadata": {},
   "source": [
    "**Answer(s)**:\n",
    "\n",
    "a)0.930\n",
    "\n",
    "b)5.0-5.5\n",
    "\n",
    "c)5.5-6.0"
   ]
  },
  {
   "cell_type": "code",
   "execution_count": null,
   "metadata": {},
   "outputs": [],
   "source": []
  }
 ],
 "metadata": {
  "kernelspec": {
   "display_name": "Python 3",
   "language": "python",
   "name": "python3"
  },
  "language_info": {
   "codemirror_mode": {
    "name": "ipython",
    "version": 3
   },
   "file_extension": ".py",
   "mimetype": "text/x-python",
   "name": "python",
   "nbconvert_exporter": "python",
   "pygments_lexer": "ipython3",
   "version": "3.8.3"
  }
 },
 "nbformat": 4,
 "nbformat_minor": 4
}
