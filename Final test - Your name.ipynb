{
 "cells": [
  {
   "cell_type": "markdown",
   "metadata": {},
   "source": [
    "# Andrey Verbovskiy\n",
    "10.12.2020   \n",
    "Probability and Statistics   \n",
    "Part 3, Final Test   \n",
    "Metropolia University of Applied Sciences"
   ]
  },
  {
   "cell_type": "code",
   "execution_count": 1,
   "metadata": {},
   "outputs": [
    {
     "name": "stdout",
     "output_type": "stream",
     "text": [
      "Populating the interactive namespace from numpy and matplotlib\n"
     ]
    },
    {
     "data": {
      "text/plain": [
       "'1.18.5'"
      ]
     },
     "execution_count": 1,
     "metadata": {},
     "output_type": "execute_result"
    }
   ],
   "source": [
    "# Import necessary libraries\n",
    "%pylab inline\n",
    "import numpy.random as rnd\n",
    "import scipy.stats as stats\n",
    "import pandas as pd\n",
    "import seaborn as sns\n",
    "numpy.__version__"
   ]
  },
  {
   "cell_type": "markdown",
   "metadata": {},
   "source": [
    "## Problem 1"
   ]
  },
  {
   "cell_type": "code",
   "execution_count": 6,
   "metadata": {},
   "outputs": [
    {
     "data": {
      "text/html": [
       "<div>\n",
       "<style scoped>\n",
       "    .dataframe tbody tr th:only-of-type {\n",
       "        vertical-align: middle;\n",
       "    }\n",
       "\n",
       "    .dataframe tbody tr th {\n",
       "        vertical-align: top;\n",
       "    }\n",
       "\n",
       "    .dataframe thead th {\n",
       "        text-align: right;\n",
       "    }\n",
       "</style>\n",
       "<table border=\"1\" class=\"dataframe\">\n",
       "  <thead>\n",
       "    <tr style=\"text-align: right;\">\n",
       "      <th></th>\n",
       "      <th>x</th>\n",
       "    </tr>\n",
       "  </thead>\n",
       "  <tbody>\n",
       "    <tr>\n",
       "      <th>count</th>\n",
       "      <td>30.000000</td>\n",
       "    </tr>\n",
       "    <tr>\n",
       "      <th>mean</th>\n",
       "      <td>200.993000</td>\n",
       "    </tr>\n",
       "    <tr>\n",
       "      <th>std</th>\n",
       "      <td>1.370739</td>\n",
       "    </tr>\n",
       "    <tr>\n",
       "      <th>min</th>\n",
       "      <td>198.000000</td>\n",
       "    </tr>\n",
       "    <tr>\n",
       "      <th>25%</th>\n",
       "      <td>200.265000</td>\n",
       "    </tr>\n",
       "    <tr>\n",
       "      <th>50%</th>\n",
       "      <td>200.900000</td>\n",
       "    </tr>\n",
       "    <tr>\n",
       "      <th>75%</th>\n",
       "      <td>201.900000</td>\n",
       "    </tr>\n",
       "    <tr>\n",
       "      <th>max</th>\n",
       "      <td>203.480000</td>\n",
       "    </tr>\n",
       "  </tbody>\n",
       "</table>\n",
       "</div>"
      ],
      "text/plain": [
       "                x\n",
       "count   30.000000\n",
       "mean   200.993000\n",
       "std      1.370739\n",
       "min    198.000000\n",
       "25%    200.265000\n",
       "50%    200.900000\n",
       "75%    201.900000\n",
       "max    203.480000"
      ]
     },
     "execution_count": 6,
     "metadata": {},
     "output_type": "execute_result"
    }
   ],
   "source": [
    "# My code\n",
    "file = 'data29444.csv'\n",
    "sep = \",\"\n",
    "data = pd.read_csv(file, sep)\n",
    "data.describe()"
   ]
  },
  {
   "cell_type": "code",
   "execution_count": 18,
   "metadata": {},
   "outputs": [
    {
     "data": {
      "image/png": "[encoded data removed]",
      "text/plain": [
       "<Figure size 432x288 with 1 Axes>"
      ]
     },
     "metadata": {
      "needs_background": "light"
     },
     "output_type": "display_data"
    }
   ],
   "source": [
    "plt.hist(data,bins=2)\n",
    "xlabel('values')\n",
    "ylabel('frequency')\n",
    "title('Data')\n",
    "plt.show()"
   ]
  },
  {
   "cell_type": "code",
   "execution_count": 61,
   "metadata": {},
   "outputs": [
    {
     "data": {
      "text/html": [
       "<div>\n",
       "<style scoped>\n",
       "    .dataframe tbody tr th:only-of-type {\n",
       "        vertical-align: middle;\n",
       "    }\n",
       "\n",
       "    .dataframe tbody tr th {\n",
       "        vertical-align: top;\n",
       "    }\n",
       "\n",
       "    .dataframe thead th {\n",
       "        text-align: right;\n",
       "    }\n",
       "</style>\n",
       "<table border=\"1\" class=\"dataframe\">\n",
       "  <thead>\n",
       "    <tr style=\"text-align: right;\">\n",
       "      <th></th>\n",
       "      <th>x</th>\n",
       "    </tr>\n",
       "  </thead>\n",
       "  <tbody>\n",
       "    <tr>\n",
       "      <th>0.00</th>\n",
       "      <td>198.000</td>\n",
       "    </tr>\n",
       "    <tr>\n",
       "      <th>0.95</th>\n",
       "      <td>203.072</td>\n",
       "    </tr>\n",
       "  </tbody>\n",
       "</table>\n",
       "</div>"
      ],
      "text/plain": [
       "            x\n",
       "0.00  198.000\n",
       "0.95  203.072"
      ]
     },
     "execution_count": 61,
     "metadata": {},
     "output_type": "execute_result"
    }
   ],
   "source": [
    "\n",
    "data.quantile([0.00,0.95])"
   ]
  },
  {
   "cell_type": "markdown",
   "metadata": {},
   "source": [
    "Final answers:\n",
    "\n",
    "* (a) mean = 200.993000 std = 1.370739 min =98.000000 max =\t203.480000\n",
    "* (b) hist is above\n",
    "* (c) 200.993000\n",
    "* (d) std = 1.370739\n",
    "* (e) 198.000 and 203.072"
   ]
  },
  {
   "cell_type": "markdown",
   "metadata": {},
   "source": [
    "## Problem 2"
   ]
  },
  {
   "cell_type": "code",
   "execution_count": 44,
   "metadata": {},
   "outputs": [
    {
     "data": {
      "text/plain": [
       "array([ 6196.47403299,  4887.48747312,  5577.73037213,  6262.69541904,\n",
       "        5047.93298677,  9605.70012961,  6296.641691  ,  5166.57260031,\n",
       "        7451.46383145,  8107.52929271,  8199.83515277,  8361.12886905,\n",
       "        9157.97062154,  6317.44543534,  7354.16775237,  6959.59747741,\n",
       "        7318.76536336,  4722.49131003,  6798.62250896,  4889.3451993 ,\n",
       "        7096.60971479,  6112.99952073,  7034.526967  ,  5238.22762402,\n",
       "        6075.72613458,  7800.14290939,  7447.37141666,  6412.84728238,\n",
       "        7110.46754483,  9455.82502073,  6698.38069053,  6199.71062983,\n",
       "        6445.11032726,  6433.98378147,  6148.89148863,  6794.69595681,\n",
       "        9412.4041118 ,  6444.53030754,  8512.67594081,  6242.24110904,\n",
       "        8906.11302817,  4301.67244027,  9066.44366859,  6960.47840442,\n",
       "       10327.45988729,  6861.77814319,  8195.65042017,  5206.30101951,\n",
       "        8909.92522112,  6286.35695497,  8631.21437246,  7272.73602725,\n",
       "        8178.89960349,  6993.32865332,  7942.7784618 ,  4998.40038614,\n",
       "        8374.20057576,  6791.08395545,  7165.19503395,  6599.63571532,\n",
       "        4023.82222213,  4481.22784129,  7800.35452984, 10785.35165932,\n",
       "       10210.81565393,  8842.37961645,  5981.53941772,  8023.76623488,\n",
       "        7404.31986924,  5724.1323075 ,  8371.0604398 ,  7872.1995549 ,\n",
       "        7660.96856045,  7141.17921828,  7617.50455204,  5381.34509084,\n",
       "        5111.36209105,  7247.29965223,  5324.98804253,  9357.87724407,\n",
       "        6332.23331588,  6018.12507327,  6061.22213941,  5836.48813755,\n",
       "        7076.23717925,  7346.08064922,  5650.69121634,  7036.99995332,\n",
       "        7023.54082773,  9171.3476844 ,  6252.35484652,  5480.54417041,\n",
       "        5885.927857  ,  6303.37606743,  5814.20571155,  7681.48277677,\n",
       "        6436.41367876,  5932.28251421,  6481.11364738,  7191.34319723,\n",
       "        7145.21815911,  7497.46487127,  6706.984054  ,  6137.55195398,\n",
       "        6279.51488038,  7833.20113828,  6260.67239371,  6164.69456995,\n",
       "        5960.44040101,  9853.6951071 ,  7644.09001551,  5894.40522335,\n",
       "        8866.60322142,  7671.54049301,  8581.00677964,  5577.93767484,\n",
       "        5288.83988881,  9343.93821497,  6330.98662819, 10167.21060952,\n",
       "        7551.22417936,  8239.17522825, 10196.11321349,  4217.5517664 ,\n",
       "        5267.21820014,  7965.67313743,  5818.37050764,  7270.33371323,\n",
       "       10006.14940477,  6487.22478037,  7799.95604036,  6137.99350352,\n",
       "        7512.88221501,  6489.75605777, 11480.32576054,  6933.22608053,\n",
       "        7921.42546746,  7428.1750472 , 10316.91418029,  7371.01618851,\n",
       "       15186.24357779, 15880.92911651,  4558.08502511,  8545.17120747,\n",
       "        6941.92083413,  8544.32600938,  5171.49333074,  3827.0923569 ,\n",
       "        5350.02011585,  8752.65107313,  9356.1488286 ,  3994.26925385,\n",
       "        6023.28526592,  6172.01258952,  7250.72184221,  6383.45713056,\n",
       "        7860.32207013,  6883.02127086,  4742.45357097,  8773.38740299,\n",
       "        7133.1645987 , 10643.1627066 ,  7207.83292646,  5887.72497571,\n",
       "        6137.03815864,  9662.2508223 ,  6987.739912  ,  4128.76502584,\n",
       "        5886.89499487,  5915.17547057,  5926.75799913,  5791.38986033,\n",
       "        8307.88051365,  5370.25696549,  6849.49025546,  7063.85462095,\n",
       "        8466.85827222,  8228.99533879,  7400.18943973,  6568.68833281,\n",
       "        6735.11630687,  7295.29274118,  7230.83946758,  8486.16498508,\n",
       "        8236.95452499, 10877.16218445, 10489.96824585,  6370.52372839,\n",
       "        6201.94550791, 11855.3796557 ,  4498.74161612,  8456.01822959,\n",
       "        9172.12456708, 10946.43256596,  4963.21333918,  5435.88050956,\n",
       "       13439.84342907,  7715.22111467,  8069.28563455,  6017.72712488,\n",
       "        8971.02312285, 12000.71156527,  9685.80942743,  8640.92590212,\n",
       "        8769.76606524,  6801.01972242,  6171.93081846,  6976.75094179,\n",
       "        6435.73207474,  7842.31046552,  9982.47096122,  7580.43186543,\n",
       "        6137.60887621,  8285.58855649,  9569.51697073,  8315.65110373,\n",
       "        7266.11355134,  8490.28883059,  7834.52634249,  7204.62156338,\n",
       "        5736.36531119,  7019.59413474,  8259.736598  ,  5249.42759147,\n",
       "        7358.96212308,  5138.59023692,  8499.19420831,  8517.63607465,\n",
       "        6848.51309078,  5643.56477658, 10735.61578151,  5493.86077285,\n",
       "        5548.27408095,  5910.43627071,  4687.02127536,  5752.27868525,\n",
       "        7195.19576775,  6509.03091479,  9042.71507022,  5692.21519679,\n",
       "        8815.51968315,  6022.88005329,  5984.09983191,  6220.2450471 ,\n",
       "        6363.13678041,  7040.22650312,  6012.31862973,  6768.80029048,\n",
       "        5018.78053712,  6663.85486434,  9727.64252448,  8219.90596252,\n",
       "        4656.83486812,  8556.50968608, 11359.44259827,  6225.38116535,\n",
       "        8437.85972468,  5372.30755982,  5430.12469754,  6964.2609762 ,\n",
       "        5202.86714381,  5764.87567144,  8522.39272164,  7650.64844781,\n",
       "        7106.21127136, 11263.27510729, 10385.21422261,  5326.67817165,\n",
       "        6933.7343922 ,  8461.74809731,  6481.35775067,  7564.30724772,\n",
       "       11533.45491174, 10090.3691531 , 10413.48922404, 10947.33367897,\n",
       "        6982.82617651,  8206.05720847,  6533.77401898,  8321.6346155 ,\n",
       "        5035.57814576,  6836.37778049,  5877.02082166,  6641.71198977,\n",
       "        7180.21617651,  6806.20511208,  9942.24905656, 12562.20430596,\n",
       "        9515.12883799,  5011.67593492, 10042.15247601,  7105.91223209,\n",
       "        5777.58987906,  6371.82828059,  5174.1367507 ,  8981.96956267,\n",
       "       10066.17688526,  7004.60843143,  7761.0096726 ,  4371.67975496,\n",
       "        7203.38380033,  6043.88135546,  7400.64563989,  7929.59854055,\n",
       "        7883.66768723,  5265.10178594,  6412.63880253,  6429.69089473,\n",
       "        5191.52834358,  6508.77850546,  6518.21017061, 14174.60012518,\n",
       "        6517.42996729,  8011.56786779,  5271.24571231,  7559.87667461,\n",
       "        7852.87416406,  6243.93869455,  6775.66023869,  6375.69772585,\n",
       "        9540.95824719,  7465.8861976 ,  7193.8522912 ,  6486.81223085,\n",
       "        8156.13532139,  4873.96627067,  6098.63374948,  5246.95184646,\n",
       "        4522.28086297,  9166.62560865,  4625.52924287,  6267.26757567,\n",
       "        6029.30631207,  9200.45196909,  7258.39258132,  7724.14285654,\n",
       "        8086.06326373,  7370.43474817,  7371.31232865,  6051.53171173,\n",
       "        7995.07212478,  8847.73066914,  7032.18156955,  7044.41237062,\n",
       "        8076.73248673,  4428.33285918,  8167.33033602,  6771.56363815,\n",
       "        7464.87262216,  5386.93711645,  6841.41928101,  6322.77297786,\n",
       "        6837.08357421,  7722.32213866,  5595.19110651,  5609.50231784,\n",
       "        5628.81819324,  6866.24887543,  6030.55005044, 11871.50045221,\n",
       "        8469.52513627,  8950.14135686,  3720.13850615,  6185.99560388,\n",
       "        8330.30670536,  8053.72922225,  7171.37676367,  6925.90793798,\n",
       "        5581.15398722,  5028.85982547,  7502.58730755,  8422.73214742,\n",
       "        7803.97694997, 10219.67441459,  8944.26612594,  4777.95526906,\n",
       "        6221.82404148,  7985.19294652,  8294.35632332,  4852.57615734,\n",
       "        7114.38459923,  7598.64508536,  5831.26416603,  9445.55204642,\n",
       "        5697.61531722, 10755.00193267,  7549.5322    ,  4429.77051354,\n",
       "        6449.59405459,  9114.69698083,  7110.24718808,  8137.01332398,\n",
       "        8478.78127867, 10094.31358368,  8393.61652948,  9209.71301916,\n",
       "        7337.6189455 , 11236.94184166,  8771.44753254,  7105.27216479,\n",
       "        8651.03990279, 11000.15127822,  6558.66089298,  6913.97403014,\n",
       "        7237.48314888,  8216.25548268,  7483.09739386,  6297.29638856,\n",
       "        8557.65424971,  4170.37286921,  6300.55525704,  5893.61567993,\n",
       "        7733.25647368,  4650.76196411,  5636.23014318,  5503.60222104,\n",
       "        7112.84169857,  5567.39611962,  6463.64968647,  8614.12800693,\n",
       "        8351.19707737,  8224.82188647,  6234.19358149,  6984.73803459,\n",
       "        6674.70239102,  4688.27412688,  9309.01058566, 10761.30885348,\n",
       "        7368.73079244,  4489.08392132,  6728.84314609,  8219.33310254,\n",
       "        8464.40056212,  6314.22803616,  9684.87304009,  6407.09036841,\n",
       "        9189.21018214,  5151.65717694,  7428.01316371,  5113.98744465,\n",
       "        8123.21596965,  4919.5433419 ,  8748.92607044,  8849.03666355,\n",
       "        7801.91541915,  9326.53787043,  4328.63579515,  6938.60022108,\n",
       "        9538.42310246,  5349.73233507,  6736.42258241,  9525.29886965,\n",
       "        6771.74630119,  5941.79582954,  7296.8031756 , 10772.11918614,\n",
       "        8096.65115891,  4521.70413406,  5493.31068245,  6570.03114969,\n",
       "        4358.16723221, 15590.56388735, 10867.09852799,  5002.95619672,\n",
       "        6564.42422633,  7912.76303057,  4585.13915053,  6098.06724511,\n",
       "        5572.62575142,  8524.61995493,  6645.14116147,  9868.61892735,\n",
       "        4351.49806288,  5982.34929604,  7077.21767656,  7976.92411998,\n",
       "        7320.49067803,  5902.52938552,  5736.94624014,  6650.87962634,\n",
       "        7805.40994195,  9978.55837079,  5730.35768702,  8484.5018513 ,\n",
       "        6410.20126096,  6537.10127064,  5131.23332029,  5452.7972057 ,\n",
       "        8556.05080045,  5669.49724808,  5738.66903745,  6275.03280986,\n",
       "        7313.4607319 ,  5834.27535446,  8160.37722152,  7572.96679725,\n",
       "        8772.88732175,  6072.34453472,  8176.82626622,  6453.48379399,\n",
       "        8855.85142786,  8104.43983367, 10768.47235348,  8735.10410299,\n",
       "        6484.98871277,  6977.06363824,  9010.35090149,  8211.72745596,\n",
       "        6386.0770184 ,  8810.66380102, 11983.84763527,  7212.77104117,\n",
       "        4656.56750731,  9259.91978807,  8170.77605459,  9547.19289595,\n",
       "        6916.4465823 ,  7101.9684317 ,  5219.11233634,  6737.44250372,\n",
       "        4172.04377455,  9008.23307922,  8427.03761902,  5146.78556904,\n",
       "        4996.49432173,  8563.19131603,  8357.68286658,  4724.89421997,\n",
       "        7990.62874742,  5488.14148176,  8788.99759251,  7351.73140117,\n",
       "        6499.38866856, 10674.52348788,  5039.63663518,  7534.07869599,\n",
       "        4556.83280749,  6745.61952239,  6375.19505995,  7033.16723394,\n",
       "        5581.34385738,  4559.04052881,  8375.09535967,  9627.06816709,\n",
       "        5682.3645027 ,  6749.73612169,  5700.98772731,  5638.26570962,\n",
       "        6041.37909752, 13128.96784063,  6806.63064803,  7945.21688794,\n",
       "        8979.32407614,  6368.93296459,  6784.20236128,  9777.26627479,\n",
       "        6202.31475313,  5148.00179999,  4920.05772723,  7965.70754452,\n",
       "       10644.65883273,  9038.55640819,  7551.59015583,  6489.71364082,\n",
       "        9088.67910564,  7736.34457239,  6679.71622331,  6759.07550418,\n",
       "        8896.68308415,  4727.95523705,  7787.354909  , 10672.48924092,\n",
       "       12724.92100303,  8109.78904985,  8485.25209588,  6192.77306697,\n",
       "        7427.15208587,  6217.94325513,  8725.60042689,  9103.88039504,\n",
       "        8073.21724571,  6460.13333457, 11595.49320829,  5722.53748213,\n",
       "        5800.02255649,  6059.96541579,  6462.61547097,  5207.5787654 ,\n",
       "        6339.05528911,  5896.94728265,  4902.57678207,  5804.97423293,\n",
       "        8203.61862271,  5772.36346133,  5143.56602033,  6523.23092349,\n",
       "        6080.49915045,  6295.98390584,  4604.91519344,  6068.60053126,\n",
       "        6671.99090026,  8521.51648309,  9347.59981998,  5653.34716904,\n",
       "        8525.06844767,  5749.27788619, 10250.84729675,  6329.5875002 ,\n",
       "        7531.4005781 ,  5947.46357911,  7638.7167366 ,  7871.36759239,\n",
       "        6474.24616852, 11462.61312574,  5827.19425587,  6651.60274128,\n",
       "        7283.44912742,  9827.5731444 ,  7697.99897479,  9243.65819754,\n",
       "        6856.32170698,  7713.27801704,  8794.23291341,  5725.1291459 ,\n",
       "        7832.52947332,  4785.58241245,  5294.75102128,  5733.43717189,\n",
       "        5557.61813227,  9694.18447112,  7173.69165537,  7485.43879486,\n",
       "        8599.55142628, 10852.31625265,  4578.30327691,  6879.33573017,\n",
       "        8155.41080494,  4801.61680705,  9018.80477996,  6569.01823397,\n",
       "        7218.6570348 ,  5278.67342073,  7990.0343976 ,  4492.69040632,\n",
       "        4809.39585787,  4748.82950513,  7556.06709687,  8771.1776209 ,\n",
       "        6332.13666712,  4228.82322724, 10394.38772047,  9275.87350939,\n",
       "        8259.11931843,  5245.73542168,  5051.71036389,  5207.85275079,\n",
       "        7758.08446197,  7075.94733086,  5125.91133646,  6096.67732788,\n",
       "        5467.05516518,  6592.31055623,  3996.16116026,  5237.08072947,\n",
       "        6809.99740983,  7269.07342426,  9383.6363795 ,  3872.36359291,\n",
       "        5813.42463852,  8081.23228179,  6265.05793458,  5581.591731  ,\n",
       "        7382.47694763, 11477.53557649,  6713.19499685,  6124.01484848,\n",
       "        6763.20113019, 10603.39133408,  7837.33251504, 10641.56597135,\n",
       "        9208.74286112,  5934.99468052,  7523.32220086,  7702.24735613,\n",
       "        5826.34586315,  8106.27637481,  9150.4507592 ,  6602.06719397,\n",
       "        5820.22687584,  8738.40506835,  4039.3132488 ,  5256.6109005 ,\n",
       "        8287.14545048,  8159.163843  ,  6925.29265917,  6080.67578555,\n",
       "        7001.66845185,  5818.00816815,  8930.25890484,  5290.8649497 ,\n",
       "        8142.69708182,  6275.94252248,  5747.28573843,  8515.10898942,\n",
       "        6528.9427365 ,  6047.64573414,  9622.82180726,  7927.24050073,\n",
       "        6684.4778061 ,  5682.9938525 ,  7550.72484002,  4770.69491266,\n",
       "        6567.06751328, 10024.14092869,  7632.32140481,  6590.68090472,\n",
       "        6866.86702704,  4455.30015548,  5548.79708723,  5922.77467225,\n",
       "        7225.43188167,  8313.27407559,  5142.40774858,  8232.66722644,\n",
       "        8021.67343035,  8493.8576095 ,  4720.4229345 ,  7016.0464279 ,\n",
       "        9481.02372389,  7145.01006894,  6181.33694515,  6888.84831769,\n",
       "        8528.38342487,  5882.00787558,  6045.2637268 ,  6067.46986522,\n",
       "        6719.26899082,  8038.32391942,  7511.62440769,  6643.85888939,\n",
       "        8849.48992871,  8033.51855055,  5296.19946105, 17119.36484654,\n",
       "       10637.02529196,  7569.40417034,  4590.55085474,  4356.14333579,\n",
       "        4914.79902864,  5750.74433996,  6190.49851394,  7163.0828792 ,\n",
       "        5144.7160999 , 12573.48144434,  5091.795803  ,  6276.48553128,\n",
       "        7791.24974633,  6404.76251631,  7398.55736251,  8654.48892379,\n",
       "        9402.51499377,  7670.84861325,  6409.35806435,  8131.31241705,\n",
       "       11259.48834491,  8794.72117963, 10093.00849065,  6717.60941265,\n",
       "        3764.91044307,  8342.04089587,  4308.93169844,  5204.33763932,\n",
       "        7290.29489934,  6861.94880996,  7754.06763177,  4713.10046797,\n",
       "        7862.56303314, 10162.5537833 ,  6707.44357347,  7953.95470559,\n",
       "        5754.7232232 ,  8547.53061094,  6222.30631127,  7717.39880723,\n",
       "        9539.48443187, 11293.93889223,  5460.52438716,  6321.3546239 ,\n",
       "        5883.62123908,  7563.79084593,  5688.83314263,  9912.76321554,\n",
       "        8513.0925503 , 10187.27119196,  5514.60457606,  7048.89834988,\n",
       "        7930.93759316,  8115.77953457,  9961.65254414,  6247.75687797,\n",
       "        6571.72163035,  6160.24382852,  6846.89286156,  6932.8444755 ,\n",
       "        6833.3767235 ,  5476.54589664,  4751.71795013,  5950.41642008,\n",
       "        7215.55784399,  6954.79297748,  9678.73241264,  6224.75674015,\n",
       "       11604.63979311, 11458.39601251,  6200.67342579,  8857.11525514,\n",
       "        6035.01062165,  6786.23062856,  6403.13419923,  8655.48874781,\n",
       "        7628.71626192,  7272.36744756,  7266.12369661,  6638.31577664,\n",
       "        8792.07959631,  8870.86607152,  5650.1455759 ,  7651.55670774,\n",
       "        8146.81992422,  7293.87309808,  6201.38245441,  3528.97480512,\n",
       "        5471.4939883 ,  4705.41146675,  5199.2098796 ,  6694.51200529,\n",
       "        8384.59960593,  6578.84334921, 11227.03350757,  8005.98050994,\n",
       "       10470.81702974,  4600.57615962,  5065.93620338,  6103.95323801,\n",
       "        7518.51204488,  5271.35239018, 10563.86619004,  6795.2894127 ,\n",
       "        7090.93250719,  6778.00799154,  8424.25523333,  5688.27050461,\n",
       "        8463.59714339,  6937.50808081,  7788.81442073,  9584.53475924,\n",
       "        8811.81269751,  5556.26600982,  7498.4795515 ,  7375.43872577,\n",
       "        8767.70455405,  9080.5854874 ,  5328.83659766,  6138.13119051,\n",
       "        7257.89430154,  8347.24427689,  8811.28701756,  6973.9923304 ,\n",
       "        6748.03954439, 10438.92101367,  6180.26393704,  8156.85959477,\n",
       "        8404.32432489,  7296.72531041,  7147.63918092,  5898.91441775,\n",
       "        5979.20088436,  6818.78854961,  7732.87326579,  9992.43126518,\n",
       "       10125.61914104, 12435.30101906,  9223.36950411,  7674.77412206,\n",
       "        7247.47578055,  7808.40164284,  6147.15782215,  5048.40341481,\n",
       "        8832.09891226,  6948.68321217,  5819.19818601,  6313.69525469,\n",
       "        8548.55763114, 10726.30707356, 10742.98419306,  5770.92238481,\n",
       "        9949.17082194,  8903.15591966,  7133.23934398,  8388.80743351,\n",
       "        7024.42622648,  7398.81117385, 10258.18928261,  8295.41035526,\n",
       "        8087.84234762,  6670.40926661,  7193.66952663,  7860.70528024,\n",
       "        7119.20460368,  7305.94231945,  5671.40047433,  9380.36348396,\n",
       "        9755.79094735,  9058.67759814, 10261.62888256,  5853.40406014,\n",
       "        9040.24307434,  5573.14474848,  6004.01787119,  5555.06555124,\n",
       "        5854.19869765,  8396.74123586,  4951.30284326,  6677.41391024,\n",
       "        8028.51754337,  6090.72893561,  6304.48323677,  8700.11877385,\n",
       "        7536.5192594 ,  7663.27065417,  6461.82312295,  5898.99990474,\n",
       "        7877.26679938,  5751.58050528,  6915.22317119,  4880.57725485,\n",
       "        4499.65234079,  7663.74187485,  5928.72520883,  7311.98922643,\n",
       "        6551.88412039,  6138.57841231,  6688.28392424,  6755.87135971,\n",
       "        4822.25880945,  8729.75473429, 10704.11515933, 10324.22132598,\n",
       "        7042.15072694,  5049.30071146, 10063.81072247,  5738.62220395,\n",
       "        6671.26975845,  6924.41932271,  5961.80754624,  9173.41547591,\n",
       "        4137.11656799,  8769.11363774,  5708.89899372,  5685.74912931,\n",
       "        7034.32209309,  7397.45274518,  5775.65725779,  5898.54590141,\n",
       "        8501.92722529,  8772.33065158,  6067.01158103,  8792.06103213,\n",
       "        7305.32371594,  6680.9055024 ,  7560.07325769,  6975.41787593,\n",
       "        6515.10563711, 11892.99610963,  7355.03618182,  6512.08870894,\n",
       "        7874.84253999,  7128.28668403,  5741.91829432,  7355.74599106,\n",
       "        5194.25944887,  6499.65403703,  6503.89090493,  4515.50431272,\n",
       "        4852.31614734, 10020.09241477,  8204.96525912,  7009.40991095,\n",
       "        5833.0097295 ,  8183.44355988,  7162.10777085,  8866.31773536,\n",
       "        8203.21078394,  7347.60918814,  7080.2230688 ,  7094.45694119,\n",
       "        8270.87815837,  6673.37021845,  4861.04439753,  9165.6230354 ])"
      ]
     },
     "execution_count": 44,
     "metadata": {},
     "output_type": "execute_result"
    }
   ],
   "source": [
    "# My code\n",
    "\n",
    "\n",
    "r = stats.exponweib.rvs(a= 6.214, c= 1.340,loc= 2389,scale= 2476, size=1000)\n",
    "r"
   ]
  },
  {
   "cell_type": "code",
   "execution_count": 63,
   "metadata": {},
   "outputs": [],
   "source": [
    "#rng = np.random.normal()\n",
    "#ppf = norm.ppf(0.975, loc=172.7815, scale=4.1532)\n",
    "\n",
    "\n",
    "rng = np.random.default_rng()\n",
    "a = rng.normal(size =1000,loc = 2389,scale = 2476 )"
   ]
  },
  {
   "cell_type": "code",
   "execution_count": 81,
   "metadata": {},
   "outputs": [
    {
     "data": {
      "image/png": "[encoded data removed]",
      "text/plain": [
       "<Figure size 432x288 with 1 Axes>"
      ]
     },
     "metadata": {
      "needs_background": "light"
     },
     "output_type": "display_data"
    },
    {
     "data": {
      "image/png": "[encoded data removed]",
      "text/plain": [
       "<Figure size 432x288 with 1 Axes>"
      ]
     },
     "metadata": {
      "needs_background": "light"
     },
     "output_type": "display_data"
    },
    {
     "data": {
      "image/png": "[encoded data removed]",
      "text/plain": [
       "<Figure size 432x288 with 1 Axes>"
      ]
     },
     "metadata": {
      "needs_background": "light"
     },
     "output_type": "display_data"
    }
   ],
   "source": [
    "plt.hist(r,bins = 10, density = True,ls='dashed', label = 'original')\n",
    "xlabel('values')\n",
    "ylabel('frequency')\n",
    "title('data')\n",
    "legend()\n",
    "plt.show()\n",
    "plt.hist(a, bins = 10, label = 'normal',ls='dotted', color = 'r')\n",
    "xlabel('values')\n",
    "ylabel('frequency')\n",
    "title('data for normal')\n",
    "plt.show()\n",
    "plt.hist(a, bins = 10, label = 'normal',ls='dotted', color = 'g')\n",
    "plt.hist(r,bins = 10, density = True,ls='dashed', label = 'original')\n",
    "xlabel('values')\n",
    "ylabel('frequency')\n",
    "title('data')\n",
    "legend()\n",
    "plt.show()"
   ]
  },
  {
   "cell_type": "code",
   "execution_count": 107,
   "metadata": {},
   "outputs": [
    {
     "data": {
      "text/plain": [
       "1"
      ]
     },
     "execution_count": 107,
     "metadata": {},
     "output_type": "execute_result"
    }
   ],
   "source": [
    "v1 = np.where(r > 5000)\n",
    "len(v1[0]) #923\n",
    "v2 = np.where(r < 10000)\n",
    "len(v2[0]) #920\n",
    "#923 - 920 = 3\n",
    "\n",
    "#3/1000 = 0.003"
   ]
  },
  {
   "cell_type": "code",
   "execution_count": 113,
   "metadata": {},
   "outputs": [
    {
     "data": {
      "text/plain": [
       "5541.999250585459"
      ]
     },
     "execution_count": 113,
     "metadata": {},
     "output_type": "execute_result"
    }
   ],
   "source": [
    "np.quantile(a,0.9)\n"
   ]
  },
  {
   "cell_type": "markdown",
   "metadata": {},
   "source": [
    "Final answers:\n",
    "\n",
    "* (a) r represents the random values\n",
    "* (b) hist was made above\n",
    "* (c) hists are displayed above, but the green one covers the other one\n",
    "* (d) probability is 0.003\n",
    "* (e) 5541.999250585459"
   ]
  },
  {
   "cell_type": "markdown",
   "metadata": {},
   "source": [
    "## Problem 3"
   ]
  },
  {
   "cell_type": "code",
   "execution_count": 117,
   "metadata": {},
   "outputs": [
    {
     "data": {
      "text/html": [
       "<div>\n",
       "<style scoped>\n",
       "    .dataframe tbody tr th:only-of-type {\n",
       "        vertical-align: middle;\n",
       "    }\n",
       "\n",
       "    .dataframe tbody tr th {\n",
       "        vertical-align: top;\n",
       "    }\n",
       "\n",
       "    .dataframe thead th {\n",
       "        text-align: right;\n",
       "    }\n",
       "</style>\n",
       "<table border=\"1\" class=\"dataframe\">\n",
       "  <thead>\n",
       "    <tr style=\"text-align: right;\">\n",
       "      <th></th>\n",
       "      <th>time</th>\n",
       "      <th>polar</th>\n",
       "      <th>garmin</th>\n",
       "      <th>firstbeat</th>\n",
       "      <th>cosinuss</th>\n",
       "    </tr>\n",
       "  </thead>\n",
       "  <tbody>\n",
       "    <tr>\n",
       "      <th>0</th>\n",
       "      <td>0</td>\n",
       "      <td>87.0</td>\n",
       "      <td>NaN</td>\n",
       "      <td>NaN</td>\n",
       "      <td>NaN</td>\n",
       "    </tr>\n",
       "    <tr>\n",
       "      <th>1</th>\n",
       "      <td>1</td>\n",
       "      <td>85.0</td>\n",
       "      <td>NaN</td>\n",
       "      <td>NaN</td>\n",
       "      <td>NaN</td>\n",
       "    </tr>\n",
       "    <tr>\n",
       "      <th>2</th>\n",
       "      <td>2</td>\n",
       "      <td>84.0</td>\n",
       "      <td>NaN</td>\n",
       "      <td>NaN</td>\n",
       "      <td>NaN</td>\n",
       "    </tr>\n",
       "    <tr>\n",
       "      <th>3</th>\n",
       "      <td>3</td>\n",
       "      <td>83.0</td>\n",
       "      <td>NaN</td>\n",
       "      <td>NaN</td>\n",
       "      <td>NaN</td>\n",
       "    </tr>\n",
       "    <tr>\n",
       "      <th>4</th>\n",
       "      <td>4</td>\n",
       "      <td>83.0</td>\n",
       "      <td>NaN</td>\n",
       "      <td>NaN</td>\n",
       "      <td>NaN</td>\n",
       "    </tr>\n",
       "  </tbody>\n",
       "</table>\n",
       "</div>"
      ],
      "text/plain": [
       "   time  polar  garmin  firstbeat  cosinuss\n",
       "0     0   87.0     NaN        NaN       NaN\n",
       "1     1   85.0     NaN        NaN       NaN\n",
       "2     2   84.0     NaN        NaN       NaN\n",
       "3     3   83.0     NaN        NaN       NaN\n",
       "4     4   83.0     NaN        NaN       NaN"
      ]
     },
     "execution_count": 117,
     "metadata": {},
     "output_type": "execute_result"
    }
   ],
   "source": [
    "# My code\n",
    "file1 = 'heartrate.csv'\n",
    "sep = \",\"\n",
    "df = pd.read_csv(file1, sep)\n",
    "df.head()"
   ]
  },
  {
   "cell_type": "code",
   "execution_count": 129,
   "metadata": {},
   "outputs": [
    {
     "data": {
      "image/png": "[encoded data removed]",
      "text/plain": [
       "<Figure size 432x288 with 1 Axes>"
      ]
     },
     "metadata": {
      "needs_background": "light"
     },
     "output_type": "display_data"
    }
   ],
   "source": [
    "plt.plot(df['time'],df['polar'], label = 'polar')\n",
    "plt.plot(df['time'],df['cosinuss'], label = 'cos')\n",
    "plt.plot(df['time'],df['firstbeat'], label = 'first')\n",
    "plt.plot(df['time'],df['garmin'], label = 'garmin')\n",
    "title('graph')\n",
    "xlabel('time')\n",
    "ylabel('hearth rate')\n",
    "legend()\n",
    "plt.show()\n"
   ]
  },
  {
   "cell_type": "code",
   "execution_count": 135,
   "metadata": {},
   "outputs": [
    {
     "data": {
      "image/png": "[encoded data removed]",
      "text/plain": [
       "<Figure size 432x288 with 1 Axes>"
      ]
     },
     "metadata": {
      "needs_background": "light"
     },
     "output_type": "display_data"
    },
    {
     "data": {
      "image/png": "[encoded data removed]",
      "text/plain": [
       "<Figure size 432x288 with 1 Axes>"
      ]
     },
     "metadata": {
      "needs_background": "light"
     },
     "output_type": "display_data"
    },
    {
     "data": {
      "image/png": "[encoded data removed]",
      "text/plain": [
       "<Figure size 432x288 with 1 Axes>"
      ]
     },
     "metadata": {
      "needs_background": "light"
     },
     "output_type": "display_data"
    },
    {
     "data": {
      "image/png": "[encoded data removed]",
      "text/plain": [
       "<Figure size 432x288 with 1 Axes>"
      ]
     },
     "metadata": {
      "needs_background": "light"
     },
     "output_type": "display_data"
    }
   ],
   "source": [
    "plt.hist(df['polar'], bins = 10)\n",
    "xlabel('hearth rate')\n",
    "ylabel('frequency')\n",
    "title('hist of the polar data')\n",
    "plt.show()\n",
    "plt.hist(df['cosinuss'], bins = 10)\n",
    "xlabel('hearth rate')\n",
    "ylabel('frequency')\n",
    "title('hist of the cosinuss data')\n",
    "plt.show()\n",
    "plt.hist(df['firstbeat'], bins = 10)\n",
    "xlabel('hearth rate')\n",
    "ylabel('frequency')\n",
    "title('hist of the firstbeat data')\n",
    "plt.show()\n",
    "plt.hist(df['garmin'], bins = 10)\n",
    "xlabel('hearth rate')\n",
    "ylabel('frequency')\n",
    "title('hist of the garmin data')\n",
    "plt.show()"
   ]
  },
  {
   "cell_type": "code",
   "execution_count": 136,
   "metadata": {},
   "outputs": [
    {
     "data": {
      "text/plain": [
       "count    1800.000000\n",
       "mean      116.662778\n",
       "std        24.420946\n",
       "min        72.000000\n",
       "25%        93.000000\n",
       "50%       120.000000\n",
       "75%       134.000000\n",
       "max       168.000000\n",
       "Name: polar, dtype: float64"
      ]
     },
     "execution_count": 136,
     "metadata": {},
     "output_type": "execute_result"
    }
   ],
   "source": [
    "df['polar'].describe()"
   ]
  },
  {
   "cell_type": "code",
   "execution_count": 137,
   "metadata": {},
   "outputs": [
    {
     "data": {
      "text/plain": [
       "count    1757.000000\n",
       "mean      109.077974\n",
       "std        27.210124\n",
       "min        26.000000\n",
       "25%        89.000000\n",
       "50%       110.000000\n",
       "75%       128.000000\n",
       "max       168.000000\n",
       "Name: cosinuss, dtype: float64"
      ]
     },
     "execution_count": 137,
     "metadata": {},
     "output_type": "execute_result"
    }
   ],
   "source": [
    "df['cosinuss'].describe()"
   ]
  },
  {
   "cell_type": "code",
   "execution_count": 138,
   "metadata": {},
   "outputs": [
    {
     "data": {
      "text/plain": [
       "count    1710.000000\n",
       "mean      118.097661\n",
       "std        23.337284\n",
       "min        74.000000\n",
       "25%        94.000000\n",
       "50%       121.000000\n",
       "75%       134.000000\n",
       "max       166.000000\n",
       "Name: firstbeat, dtype: float64"
      ]
     },
     "execution_count": 138,
     "metadata": {},
     "output_type": "execute_result"
    }
   ],
   "source": [
    "df['firstbeat'].describe()"
   ]
  },
  {
   "cell_type": "code",
   "execution_count": 139,
   "metadata": {},
   "outputs": [
    {
     "data": {
      "text/plain": [
       "count    1776.000000\n",
       "mean      119.269707\n",
       "std        24.159724\n",
       "min        76.000000\n",
       "25%        94.000000\n",
       "50%       123.000000\n",
       "75%       136.000000\n",
       "max       169.000000\n",
       "Name: garmin, dtype: float64"
      ]
     },
     "execution_count": 139,
     "metadata": {},
     "output_type": "execute_result"
    }
   ],
   "source": [
    "df['garmin'].describe()"
   ]
  },
  {
   "cell_type": "code",
   "execution_count": 152,
   "metadata": {},
   "outputs": [
    {
     "data": {
      "text/plain": [
       "1.0"
      ]
     },
     "execution_count": 152,
     "metadata": {},
     "output_type": "execute_result"
    }
   ],
   "source": [
    "w = numpy.corrcoef(df['polar'])\n",
    "w #1.0"
   ]
  },
  {
   "cell_type": "code",
   "execution_count": 153,
   "metadata": {},
   "outputs": [
    {
     "data": {
      "text/plain": [
       "nan"
      ]
     },
     "execution_count": 153,
     "metadata": {},
     "output_type": "execute_result"
    }
   ],
   "source": [
    "w = numpy.corrcoef(df['garmin'])\n",
    "w #nan"
   ]
  },
  {
   "cell_type": "code",
   "execution_count": 154,
   "metadata": {},
   "outputs": [
    {
     "data": {
      "text/plain": [
       "nan"
      ]
     },
     "execution_count": 154,
     "metadata": {},
     "output_type": "execute_result"
    }
   ],
   "source": [
    "w = numpy.corrcoef(df['firstbeat'])\n",
    "w #nan"
   ]
  },
  {
   "cell_type": "code",
   "execution_count": 155,
   "metadata": {},
   "outputs": [
    {
     "data": {
      "text/plain": [
       "nan"
      ]
     },
     "execution_count": 155,
     "metadata": {},
     "output_type": "execute_result"
    }
   ],
   "source": [
    "w = numpy.corrcoef(df['cosinuss'])\n",
    "w #nan"
   ]
  },
  {
   "cell_type": "code",
   "execution_count": 165,
   "metadata": {},
   "outputs": [
    {
     "data": {
      "text/plain": [
       "array([[       nan,        nan,        nan, ...,        nan,        nan,\n",
       "               nan],\n",
       "       [       nan,        nan,        nan, ...,        nan,        nan,\n",
       "               nan],\n",
       "       [       nan,        nan,        nan, ...,        nan,        nan,\n",
       "               nan],\n",
       "       ...,\n",
       "       [       nan,        nan,        nan, ..., 1.        , 0.99999759,\n",
       "        0.99999419],\n",
       "       [       nan,        nan,        nan, ..., 0.99999759, 1.        ,\n",
       "        0.99999894],\n",
       "       [       nan,        nan,        nan, ..., 0.99999419, 0.99999894,\n",
       "        1.        ]])"
      ]
     },
     "execution_count": 165,
     "metadata": {},
     "output_type": "execute_result"
    }
   ],
   "source": [
    "#Overall one\n",
    "\n",
    "w = numpy.corrcoef(df)\n",
    "w #0.99999759\n"
   ]
  },
  {
   "cell_type": "code",
   "execution_count": 166,
   "metadata": {},
   "outputs": [
    {
     "data": {
      "image/png": "[encoded data removed]",
      "text/plain": [
       "<Figure size 432x288 with 1 Axes>"
      ]
     },
     "metadata": {
      "needs_background": "light"
     },
     "output_type": "display_data"
    }
   ],
   "source": [
    "plt.scatter(df['time'],df['polar'])\n",
    "xlabel('time')\n",
    "ylabel('hearth rate')\n",
    "title('scatter of the polar data')\n",
    "plt.show()"
   ]
  },
  {
   "cell_type": "code",
   "execution_count": 167,
   "metadata": {},
   "outputs": [
    {
     "data": {
      "image/png": "[encoded data removed]",
      "text/plain": [
       "<Figure size 432x288 with 1 Axes>"
      ]
     },
     "metadata": {
      "needs_background": "light"
     },
     "output_type": "display_data"
    }
   ],
   "source": [
    "plt.scatter(df['time'],df['garmin'])\n",
    "xlabel('time')\n",
    "ylabel('hearth rate')\n",
    "title('scatter of the garmin data')\n",
    "plt.show()"
   ]
  },
  {
   "cell_type": "code",
   "execution_count": 168,
   "metadata": {},
   "outputs": [
    {
     "data": {
      "image/png": "[encoded data removed]",
      "text/plain": [
       "<Figure size 432x288 with 1 Axes>"
      ]
     },
     "metadata": {
      "needs_background": "light"
     },
     "output_type": "display_data"
    }
   ],
   "source": [
    "plt.scatter(df['time'],df['firstbeat'])\n",
    "xlabel('time')\n",
    "ylabel('hearth rate')\n",
    "title('scatter of the firstbeat data')\n",
    "plt.show()"
   ]
  },
  {
   "cell_type": "code",
   "execution_count": 169,
   "metadata": {},
   "outputs": [
    {
     "data": {
      "image/png": "[encoded data removed]",
      "text/plain": [
       "<Figure size 432x288 with 1 Axes>"
      ]
     },
     "metadata": {
      "needs_background": "light"
     },
     "output_type": "display_data"
    }
   ],
   "source": [
    "plt.scatter(df['time'],df['cosinuss'])\n",
    "xlabel('time')\n",
    "ylabel('hearth rate')\n",
    "title('scatter of the cosinuss data')\n",
    "plt.show()"
   ]
  },
  {
   "cell_type": "markdown",
   "metadata": {},
   "source": [
    "## Problem 4"
   ]
  },
  {
   "cell_type": "markdown",
   "metadata": {},
   "source": [
    "Final answers:\n",
    "\n",
    "* (a) according to graphs and scatters it should be around 90\n",
    "* (b) it stays around the same, yet after around 500 minutes in increases significantly\n",
    "* (c) it randomly increases with some sudden decreases and increases.\n",
    "* (d) not so much reliably as some possible errors appear when it suddenly decreases. Also some data is missing.\n",
    "* (e) polar is the best as it has no missing data. The less missing data there is as better the mothod is."
   ]
  },
  {
   "cell_type": "code",
   "execution_count": null,
   "metadata": {},
   "outputs": [],
   "source": []
  }
 ],
 "metadata": {
  "kernelspec": {
   "display_name": "Python 3",
   "language": "python",
   "name": "python3"
  },
  "language_info": {
   "codemirror_mode": {
    "name": "ipython",
    "version": 3
   },
   "file_extension": ".py",
   "mimetype": "text/x-python",
   "name": "python",
   "nbconvert_exporter": "python",
   "pygments_lexer": "ipython3",
   "version": "3.8.3"
  },
  "toc": {
   "base_numbering": 1,
   "nav_menu": {},
   "number_sections": true,
   "sideBar": true,
   "skip_h1_title": false,
   "title_cell": "Table of Contents",
   "title_sidebar": "Contents",
   "toc_cell": true,
   "toc_position": {},
   "toc_section_display": true,
   "toc_window_display": false
  }
 },
 "nbformat": 4,
 "nbformat_minor": 4
}
