{
 "cells": [
  {
   "cell_type": "markdown",
   "metadata": {},
   "source": [
    "# Case 0. Learning basics\n",
    "**Andrey Verbovskiy**<br>\n",
    "14.01.2021<br>\n",
    "Neural Network for Health Technology Applications<br>\n",
    "[Metropolia University of Applied Sciences](https://www.metropolia.fi/en)"
   ]
  },
  {
   "cell_type": "markdown",
   "metadata": {},
   "source": [
    "This exercise combines the codes from two tensorflow examples:\n",
    "\n",
    "- [Regression](https://www.tensorflow.org/tutorials/keras/regression)\n",
    "- [Load CSV data](https://www.tensorflow.org/tutorials/load_data/csv)."
   ]
  },
  {
   "cell_type": "markdown",
   "metadata": {},
   "source": [
    "## Setup"
   ]
  },
  {
   "cell_type": "markdown",
   "metadata": {},
   "source": [
    "Here is as a first version of the code that imports the needed libraries. You might need to iterate and edit this part several times. "
   ]
  },
  {
   "cell_type": "code",
   "execution_count": 23,
   "metadata": {},
   "outputs": [],
   "source": [
    "# Import libraries\n",
    "import pandas as pd\n",
    "import numpy as np\n",
    "import tensorflow as tf\n",
    "import matplotlib.pyplot as plt\n",
    "\n",
    "from tensorflow import keras\n",
    "from tensorflow.keras import layers\n",
    "from tensorflow.keras.layers.experimental import preprocessing\n"
   ]
  },
  {
   "cell_type": "markdown",
   "metadata": {},
   "source": [
    "Print out the tensorflow version number, See: [Basic Regression](https://www.tensorflow.org/tutorials/keras/regression)"
   ]
  },
  {
   "cell_type": "code",
   "execution_count": 2,
   "metadata": {},
   "outputs": [
    {
     "name": "stdout",
     "output_type": "stream",
     "text": [
      "tensorflow: 2.3.0\n"
     ]
    }
   ],
   "source": [
    "# Write the print command here\n",
    "print(\"tensorflow:\", tf.__version__)"
   ]
  },
  {
   "cell_type": "markdown",
   "metadata": {},
   "source": [
    "## Dataset"
   ]
  },
  {
   "cell_type": "markdown",
   "metadata": {},
   "source": [
    "We read in [the abalone dataset](https://archive.ics.uci.edu/ml/datasets/abalone). Here is a ready code for it. Just run it. For more details, see: [Load CSV data](https://www.tensorflow.org/tutorials/load_data/csv)"
   ]
  },
  {
   "cell_type": "code",
   "execution_count": 3,
   "metadata": {},
   "outputs": [],
   "source": [
    "dataset = pd.read_csv(\n",
    "    \"https://storage.googleapis.com/download.tensorflow.org/data/abalone_train.csv\",\n",
    "    names=[\"Length\", \"Diameter\", \"Height\", \"Whole weight\", \"Shucked weight\",\n",
    "           \"Viscera weight\", \"Shell weight\", \"Age\"])"
   ]
  },
  {
   "cell_type": "markdown",
   "metadata": {},
   "source": [
    "Print out the first 10 rows of the data. Search for `pandas dataframe head` for more details. "
   ]
  },
  {
   "cell_type": "code",
   "execution_count": 4,
   "metadata": {},
   "outputs": [
    {
     "data": {
      "text/html": [
       "<div>\n",
       "<style scoped>\n",
       "    .dataframe tbody tr th:only-of-type {\n",
       "        vertical-align: middle;\n",
       "    }\n",
       "\n",
       "    .dataframe tbody tr th {\n",
       "        vertical-align: top;\n",
       "    }\n",
       "\n",
       "    .dataframe thead th {\n",
       "        text-align: right;\n",
       "    }\n",
       "</style>\n",
       "<table border=\"1\" class=\"dataframe\">\n",
       "  <thead>\n",
       "    <tr style=\"text-align: right;\">\n",
       "      <th></th>\n",
       "      <th>Length</th>\n",
       "      <th>Diameter</th>\n",
       "      <th>Height</th>\n",
       "      <th>Whole weight</th>\n",
       "      <th>Shucked weight</th>\n",
       "      <th>Viscera weight</th>\n",
       "      <th>Shell weight</th>\n",
       "      <th>Age</th>\n",
       "    </tr>\n",
       "  </thead>\n",
       "  <tbody>\n",
       "    <tr>\n",
       "      <th>0</th>\n",
       "      <td>0.435</td>\n",
       "      <td>0.335</td>\n",
       "      <td>0.110</td>\n",
       "      <td>0.3340</td>\n",
       "      <td>0.1355</td>\n",
       "      <td>0.0775</td>\n",
       "      <td>0.0965</td>\n",
       "      <td>7</td>\n",
       "    </tr>\n",
       "    <tr>\n",
       "      <th>1</th>\n",
       "      <td>0.585</td>\n",
       "      <td>0.450</td>\n",
       "      <td>0.125</td>\n",
       "      <td>0.8740</td>\n",
       "      <td>0.3545</td>\n",
       "      <td>0.2075</td>\n",
       "      <td>0.2250</td>\n",
       "      <td>6</td>\n",
       "    </tr>\n",
       "    <tr>\n",
       "      <th>2</th>\n",
       "      <td>0.655</td>\n",
       "      <td>0.510</td>\n",
       "      <td>0.160</td>\n",
       "      <td>1.0920</td>\n",
       "      <td>0.3960</td>\n",
       "      <td>0.2825</td>\n",
       "      <td>0.3700</td>\n",
       "      <td>14</td>\n",
       "    </tr>\n",
       "    <tr>\n",
       "      <th>3</th>\n",
       "      <td>0.545</td>\n",
       "      <td>0.425</td>\n",
       "      <td>0.125</td>\n",
       "      <td>0.7680</td>\n",
       "      <td>0.2940</td>\n",
       "      <td>0.1495</td>\n",
       "      <td>0.2600</td>\n",
       "      <td>16</td>\n",
       "    </tr>\n",
       "    <tr>\n",
       "      <th>4</th>\n",
       "      <td>0.545</td>\n",
       "      <td>0.420</td>\n",
       "      <td>0.130</td>\n",
       "      <td>0.8790</td>\n",
       "      <td>0.3740</td>\n",
       "      <td>0.1695</td>\n",
       "      <td>0.2300</td>\n",
       "      <td>13</td>\n",
       "    </tr>\n",
       "    <tr>\n",
       "      <th>5</th>\n",
       "      <td>0.570</td>\n",
       "      <td>0.450</td>\n",
       "      <td>0.145</td>\n",
       "      <td>0.7510</td>\n",
       "      <td>0.2825</td>\n",
       "      <td>0.2195</td>\n",
       "      <td>0.2215</td>\n",
       "      <td>10</td>\n",
       "    </tr>\n",
       "    <tr>\n",
       "      <th>6</th>\n",
       "      <td>0.470</td>\n",
       "      <td>0.360</td>\n",
       "      <td>0.130</td>\n",
       "      <td>0.4720</td>\n",
       "      <td>0.1820</td>\n",
       "      <td>0.1140</td>\n",
       "      <td>0.1500</td>\n",
       "      <td>10</td>\n",
       "    </tr>\n",
       "    <tr>\n",
       "      <th>7</th>\n",
       "      <td>0.610</td>\n",
       "      <td>0.450</td>\n",
       "      <td>0.190</td>\n",
       "      <td>1.0805</td>\n",
       "      <td>0.5170</td>\n",
       "      <td>0.2495</td>\n",
       "      <td>0.2935</td>\n",
       "      <td>10</td>\n",
       "    </tr>\n",
       "    <tr>\n",
       "      <th>8</th>\n",
       "      <td>0.520</td>\n",
       "      <td>0.425</td>\n",
       "      <td>0.125</td>\n",
       "      <td>0.7900</td>\n",
       "      <td>0.3720</td>\n",
       "      <td>0.2050</td>\n",
       "      <td>0.1900</td>\n",
       "      <td>8</td>\n",
       "    </tr>\n",
       "    <tr>\n",
       "      <th>9</th>\n",
       "      <td>0.485</td>\n",
       "      <td>0.390</td>\n",
       "      <td>0.120</td>\n",
       "      <td>0.5990</td>\n",
       "      <td>0.2510</td>\n",
       "      <td>0.1345</td>\n",
       "      <td>0.1690</td>\n",
       "      <td>8</td>\n",
       "    </tr>\n",
       "  </tbody>\n",
       "</table>\n",
       "</div>"
      ],
      "text/plain": [
       "   Length  Diameter  Height  Whole weight  Shucked weight  Viscera weight  \\\n",
       "0   0.435     0.335   0.110        0.3340          0.1355          0.0775   \n",
       "1   0.585     0.450   0.125        0.8740          0.3545          0.2075   \n",
       "2   0.655     0.510   0.160        1.0920          0.3960          0.2825   \n",
       "3   0.545     0.425   0.125        0.7680          0.2940          0.1495   \n",
       "4   0.545     0.420   0.130        0.8790          0.3740          0.1695   \n",
       "5   0.570     0.450   0.145        0.7510          0.2825          0.2195   \n",
       "6   0.470     0.360   0.130        0.4720          0.1820          0.1140   \n",
       "7   0.610     0.450   0.190        1.0805          0.5170          0.2495   \n",
       "8   0.520     0.425   0.125        0.7900          0.3720          0.2050   \n",
       "9   0.485     0.390   0.120        0.5990          0.2510          0.1345   \n",
       "\n",
       "   Shell weight  Age  \n",
       "0        0.0965    7  \n",
       "1        0.2250    6  \n",
       "2        0.3700   14  \n",
       "3        0.2600   16  \n",
       "4        0.2300   13  \n",
       "5        0.2215   10  \n",
       "6        0.1500   10  \n",
       "7        0.2935   10  \n",
       "8        0.1900    8  \n",
       "9        0.1690    8  "
      ]
     },
     "execution_count": 4,
     "metadata": {},
     "output_type": "execute_result"
    }
   ],
   "source": [
    "# Your code\n",
    "dataset.head(10)"
   ]
  },
  {
   "cell_type": "markdown",
   "metadata": {},
   "source": [
    "Next we split the dataset into training and test."
   ]
  },
  {
   "cell_type": "code",
   "execution_count": 5,
   "metadata": {},
   "outputs": [],
   "source": [
    "train_dataset = dataset.sample(frac=0.8, random_state=0)\n",
    "test_dataset = dataset.drop(train_dataset.index)"
   ]
  },
  {
   "cell_type": "markdown",
   "metadata": {},
   "source": [
    "How many samples (=rows) are in train and test datasets?<br>\n",
    "(Tip: Search for `pandas dataframe count`)"
   ]
  },
  {
   "cell_type": "code",
   "execution_count": 6,
   "metadata": {},
   "outputs": [
    {
     "data": {
      "text/html": [
       "<div>\n",
       "<style scoped>\n",
       "    .dataframe tbody tr th:only-of-type {\n",
       "        vertical-align: middle;\n",
       "    }\n",
       "\n",
       "    .dataframe tbody tr th {\n",
       "        vertical-align: top;\n",
       "    }\n",
       "\n",
       "    .dataframe thead th {\n",
       "        text-align: right;\n",
       "    }\n",
       "</style>\n",
       "<table border=\"1\" class=\"dataframe\">\n",
       "  <thead>\n",
       "    <tr style=\"text-align: right;\">\n",
       "      <th></th>\n",
       "      <th>Length</th>\n",
       "      <th>Diameter</th>\n",
       "      <th>Height</th>\n",
       "      <th>Whole weight</th>\n",
       "      <th>Shucked weight</th>\n",
       "      <th>Viscera weight</th>\n",
       "      <th>Shell weight</th>\n",
       "      <th>Age</th>\n",
       "    </tr>\n",
       "  </thead>\n",
       "  <tbody>\n",
       "    <tr>\n",
       "      <th>count</th>\n",
       "      <td>664.000000</td>\n",
       "      <td>664.000000</td>\n",
       "      <td>664.000000</td>\n",
       "      <td>664.000000</td>\n",
       "      <td>664.000000</td>\n",
       "      <td>664.000000</td>\n",
       "      <td>664.000000</td>\n",
       "      <td>664.000000</td>\n",
       "    </tr>\n",
       "    <tr>\n",
       "      <th>mean</th>\n",
       "      <td>0.528750</td>\n",
       "      <td>0.411182</td>\n",
       "      <td>0.142432</td>\n",
       "      <td>0.848757</td>\n",
       "      <td>0.369347</td>\n",
       "      <td>0.185704</td>\n",
       "      <td>0.243715</td>\n",
       "      <td>9.912651</td>\n",
       "    </tr>\n",
       "    <tr>\n",
       "      <th>std</th>\n",
       "      <td>0.120982</td>\n",
       "      <td>0.100227</td>\n",
       "      <td>0.056676</td>\n",
       "      <td>0.512770</td>\n",
       "      <td>0.232897</td>\n",
       "      <td>0.114800</td>\n",
       "      <td>0.144429</td>\n",
       "      <td>3.089644</td>\n",
       "    </tr>\n",
       "    <tr>\n",
       "      <th>min</th>\n",
       "      <td>0.175000</td>\n",
       "      <td>0.125000</td>\n",
       "      <td>0.040000</td>\n",
       "      <td>0.023500</td>\n",
       "      <td>0.008000</td>\n",
       "      <td>0.003500</td>\n",
       "      <td>0.008000</td>\n",
       "      <td>3.000000</td>\n",
       "    </tr>\n",
       "    <tr>\n",
       "      <th>25%</th>\n",
       "      <td>0.450000</td>\n",
       "      <td>0.345000</td>\n",
       "      <td>0.115000</td>\n",
       "      <td>0.438625</td>\n",
       "      <td>0.187625</td>\n",
       "      <td>0.090000</td>\n",
       "      <td>0.130750</td>\n",
       "      <td>8.000000</td>\n",
       "    </tr>\n",
       "    <tr>\n",
       "      <th>50%</th>\n",
       "      <td>0.550000</td>\n",
       "      <td>0.425000</td>\n",
       "      <td>0.140000</td>\n",
       "      <td>0.816250</td>\n",
       "      <td>0.345250</td>\n",
       "      <td>0.176000</td>\n",
       "      <td>0.236250</td>\n",
       "      <td>10.000000</td>\n",
       "    </tr>\n",
       "    <tr>\n",
       "      <th>75%</th>\n",
       "      <td>0.620000</td>\n",
       "      <td>0.485000</td>\n",
       "      <td>0.170000</td>\n",
       "      <td>1.183125</td>\n",
       "      <td>0.506625</td>\n",
       "      <td>0.260500</td>\n",
       "      <td>0.340000</td>\n",
       "      <td>11.000000</td>\n",
       "    </tr>\n",
       "    <tr>\n",
       "      <th>max</th>\n",
       "      <td>0.815000</td>\n",
       "      <td>0.650000</td>\n",
       "      <td>1.130000</td>\n",
       "      <td>2.825500</td>\n",
       "      <td>1.488000</td>\n",
       "      <td>0.641500</td>\n",
       "      <td>0.897000</td>\n",
       "      <td>27.000000</td>\n",
       "    </tr>\n",
       "  </tbody>\n",
       "</table>\n",
       "</div>"
      ],
      "text/plain": [
       "           Length    Diameter      Height  Whole weight  Shucked weight  \\\n",
       "count  664.000000  664.000000  664.000000    664.000000      664.000000   \n",
       "mean     0.528750    0.411182    0.142432      0.848757        0.369347   \n",
       "std      0.120982    0.100227    0.056676      0.512770        0.232897   \n",
       "min      0.175000    0.125000    0.040000      0.023500        0.008000   \n",
       "25%      0.450000    0.345000    0.115000      0.438625        0.187625   \n",
       "50%      0.550000    0.425000    0.140000      0.816250        0.345250   \n",
       "75%      0.620000    0.485000    0.170000      1.183125        0.506625   \n",
       "max      0.815000    0.650000    1.130000      2.825500        1.488000   \n",
       "\n",
       "       Viscera weight  Shell weight         Age  \n",
       "count      664.000000    664.000000  664.000000  \n",
       "mean         0.185704      0.243715    9.912651  \n",
       "std          0.114800      0.144429    3.089644  \n",
       "min          0.003500      0.008000    3.000000  \n",
       "25%          0.090000      0.130750    8.000000  \n",
       "50%          0.176000      0.236250   10.000000  \n",
       "75%          0.260500      0.340000   11.000000  \n",
       "max          0.641500      0.897000   27.000000  "
      ]
     },
     "execution_count": 6,
     "metadata": {},
     "output_type": "execute_result"
    }
   ],
   "source": [
    "# Your code\n",
    "train_dataset.describe()#2656 rows\n",
    "test_dataset.describe()#664 rows"
   ]
  },
  {
   "cell_type": "markdown",
   "metadata": {},
   "source": [
    "## Split features from labels"
   ]
  },
  {
   "cell_type": "markdown",
   "metadata": {},
   "source": [
    "Next we split the features (=input) from the labels (=output). [`pandas.DataFrame.pop`](https://pandas.pydata.org/pandas-docs/stable/reference/api/pandas.DataFrame.pop.html) and [`pandas.DataFrame.copy`](https://pandas.pydata.org/pandas-docs/stable/reference/api/pandas.DataFrame.copy.html) do that trick."
   ]
  },
  {
   "cell_type": "code",
   "execution_count": 7,
   "metadata": {},
   "outputs": [],
   "source": [
    "train_features = train_dataset.copy()\n",
    "test_features = test_dataset.copy()\n",
    "\n",
    "train_labels = train_features.pop('Age')\n",
    "test_labels = test_features.pop('Age')\n"
   ]
  },
  {
   "cell_type": "markdown",
   "metadata": {},
   "source": [
    "## Normalization\n",
    "\n",
    "We use [the normalization layer](https://www.tensorflow.org/tutorials/keras/regression#the_normalization_layer) to preprocess the data. \n",
    "\n",
    "**Note: You might need to add something to your setup!** See the setup for the [Regression](https://www.tensorflow.org/tutorials/keras/regression) for more details."
   ]
  },
  {
   "cell_type": "code",
   "execution_count": 8,
   "metadata": {},
   "outputs": [],
   "source": [
    "normalizer = preprocessing.Normalization()\n",
    "normalizer.adapt(np.array(train_features))"
   ]
  },
  {
   "cell_type": "markdown",
   "metadata": {},
   "source": [
    "## DNN regression model"
   ]
  },
  {
   "cell_type": "markdown",
   "metadata": {},
   "source": [
    "Next we build a [dense neural network (DNN) regression model](https://www.tensorflow.org/tutorials/keras/regression#a_dnn_regression). The model architecture should be the following:\n",
    "\n",
    "- First layer is the normalization layer (normalizer)\n",
    "- Second layer should be a Dense layer having 64 elements, activation function of 'relu'\n",
    "- Third layer should be a Dense layer having 8 elements and activation function of 'relu'\n",
    "- Last layer should be a Dense layer having 1 element\n",
    "\n",
    "**Add the missing second and third layers to the model.**\n",
    "\n",
    "The loss function and optimizer are already given, so you need not to change them."
   ]
  },
  {
   "cell_type": "code",
   "execution_count": 11,
   "metadata": {},
   "outputs": [],
   "source": [
    "# Add to the model the missing layers\n",
    "model = keras.Sequential([\n",
    "      normalizer,\n",
    "      layers.Dense(64,activation= 'relu'),\n",
    "      layers.Dense(8,'relu'),\n",
    "      layers.Dense(1)])\n",
    "\n",
    "# Don't change the compilation\n",
    "model.compile(loss='mean_absolute_error',\n",
    "                optimizer=tf.keras.optimizers.Adam(0.001))"
   ]
  },
  {
   "cell_type": "markdown",
   "metadata": {},
   "source": [
    "Print out the model summary, see: [Full model](https://www.tensorflow.org/tutorials/keras/regression#full_model)."
   ]
  },
  {
   "cell_type": "code",
   "execution_count": 12,
   "metadata": {},
   "outputs": [
    {
     "name": "stdout",
     "output_type": "stream",
     "text": [
      "Model: \"sequential_1\"\n",
      "_________________________________________________________________\n",
      "Layer (type)                 Output Shape              Param #   \n",
      "=================================================================\n",
      "normalization (Normalization (None, 7)                 15        \n",
      "_________________________________________________________________\n",
      "dense_1 (Dense)              (None, 64)                512       \n",
      "_________________________________________________________________\n",
      "dense_2 (Dense)              (None, 8)                 520       \n",
      "_________________________________________________________________\n",
      "dense_3 (Dense)              (None, 1)                 9         \n",
      "=================================================================\n",
      "Total params: 1,056\n",
      "Trainable params: 1,041\n",
      "Non-trainable params: 15\n",
      "_________________________________________________________________\n"
     ]
    }
   ],
   "source": [
    "# Your code\n",
    "model.summary()"
   ]
  },
  {
   "cell_type": "markdown",
   "metadata": {},
   "source": [
    "*Bonus*: Experiment what libraries are needed to install and setup in order that the following code works. More info: [plot_model](https://www.tensorflow.org/api_docs/python/tf/keras/utils/plot_model)"
   ]
  },
  {
   "cell_type": "code",
   "execution_count": 14,
   "metadata": {},
   "outputs": [],
   "source": [
    "# Bonus: take the comment away and run, you might need some extra installations\n",
    "#plot_model(model)"
   ]
  },
  {
   "cell_type": "markdown",
   "metadata": {},
   "source": [
    "## Training"
   ]
  },
  {
   "cell_type": "markdown",
   "metadata": {},
   "source": [
    "Now we are ready to train our model. The following code:\n",
    "\n",
    "- watches how long time does the training take (`%%time`)\n",
    "- trains the model 100 times (`epochs = 100`) with the given training features and labels\n",
    "- suppress all intermediate printings (`verbose = 0`)\n",
    "- splits the training data to 80% for training and 20% for validation (`validation_split = 0.2`), and\n",
    "- stores the training history (`history = ...`)\n"
   ]
  },
  {
   "cell_type": "code",
   "execution_count": 15,
   "metadata": {},
   "outputs": [
    {
     "name": "stdout",
     "output_type": "stream",
     "text": [
      "Wall time: 4.32 s\n"
     ]
    }
   ],
   "source": [
    "%%time\n",
    "history = model.fit(train_features, train_labels,\n",
    "                   epochs = 100,\n",
    "                   verbose = 0,\n",
    "                   validation_split = 0.2)"
   ]
  },
  {
   "cell_type": "markdown",
   "metadata": {},
   "source": [
    "Write a function that takes as an input argument the history and plots the error (=loss) vs epochs. Search for how the `def plot_loss` has been implemented in the [regression example](https://www.tensorflow.org/tutorials/keras/regression). "
   ]
  },
  {
   "cell_type": "code",
   "execution_count": 41,
   "metadata": {},
   "outputs": [],
   "source": [
    "def plot_loss(history):\n",
    "    plt.plot(history.history['loss'], label = 'loss')\n",
    "    plt.plot(history.history['val_loss'],label = 'val_loss')\n",
    "    plt.legend()\n",
    "    plt.xlabel('epochs')\n",
    "    plt.ylabel('Error[AGE]')"
   ]
  },
  {
   "cell_type": "markdown",
   "metadata": {},
   "source": [
    "Now we are ready to plot the training history."
   ]
  },
  {
   "cell_type": "code",
   "execution_count": 42,
   "metadata": {},
   "outputs": [
    {
     "data": {
      "image/png": "[encoded data removed]",
      "text/plain": [
       "<Figure size 432x288 with 1 Axes>"
      ]
     },
     "metadata": {
      "needs_background": "light"
     },
     "output_type": "display_data"
    }
   ],
   "source": [
    "plot_loss(history)"
   ]
  },
  {
   "cell_type": "markdown",
   "metadata": {},
   "source": [
    "*Note*: Check that the y-axis label is correct. In this model we try to predict 'Age', not miles per gallon (MPG) as in the regression example..."
   ]
  },
  {
   "cell_type": "markdown",
   "metadata": {},
   "source": [
    "## Evaluation and Performance"
   ]
  },
  {
   "cell_type": "markdown",
   "metadata": {},
   "source": [
    "Finally we evaluate the model with the test features and labels. `model.evaluate` calculates the Mean absolute error (=loss) for the test dataset."
   ]
  },
  {
   "cell_type": "code",
   "execution_count": 43,
   "metadata": {},
   "outputs": [],
   "source": [
    "test_results = model.evaluate(test_features, test_labels, verbose=0)"
   ]
  },
  {
   "cell_type": "markdown",
   "metadata": {},
   "source": [
    "Print out the evaluation results. Show three (3) decimals places for the error. See [How to print a float with two decimal places in Python](https://www.kite.com/python/answers/how-to-print-a-float-with-two-decimal-places-in-python)."
   ]
  },
  {
   "cell_type": "code",
   "execution_count": 53,
   "metadata": {},
   "outputs": [
    {
     "data": {
      "text/plain": [
       "'1.553'"
      ]
     },
     "execution_count": 53,
     "metadata": {},
     "output_type": "execute_result"
    }
   ],
   "source": [
    "# Your code\n",
    "test_results_3_dec = \"{:.3f}\".format(test_results)\n",
    "test_results_3_dec"
   ]
  },
  {
   "cell_type": "markdown",
   "metadata": {},
   "source": [
    "Lastly we use the trained model to predict the results for the test features. [`numpy.flatten`](https://numpy.org/doc/stable/reference/generated/numpy.ndarray.flatten.html) collapses the array into one dimension."
   ]
  },
  {
   "cell_type": "code",
   "execution_count": 54,
   "metadata": {},
   "outputs": [],
   "source": [
    "test_predictions = model.predict(test_features).flatten()"
   ]
  },
  {
   "cell_type": "markdown",
   "metadata": {},
   "source": [
    "In this last code snippet you should add a scatter plot of the predicted values (`test_predictions`) vs. the real values (`test_labels`) and decorate the graphics with x- and y-labels. For more details see [Make predictions](https://www.tensorflow.org/tutorials/keras/regression#make_predictions)."
   ]
  },
  {
   "cell_type": "code",
   "execution_count": 60,
   "metadata": {},
   "outputs": [
    {
     "data": {
      "image/png": "[encoded data removed]",
      "text/plain": [
       "<Figure size 432x288 with 1 Axes>"
      ]
     },
     "metadata": {
      "needs_background": "light"
     },
     "output_type": "display_data"
    }
   ],
   "source": [
    "a = plt.axes(aspect='equal')\n",
    "\n",
    "plt.scatter(test_predictions, test_labels)\n",
    "\n",
    "plt.xlabel('True Values [MPG]')\n",
    "plt.ylabel('Predictions [MPG]')\n",
    "\n",
    "\n",
    "lims = [0, 30]\n",
    "plt.xlim(lims)\n",
    "plt.ylim(lims)\n",
    "plt.plot(lims, lims)\n",
    "plt.show()"
   ]
  },
  {
   "cell_type": "code",
   "execution_count": 58,
   "metadata": {},
   "outputs": [
    {
     "data": {
      "image/png": "[encoded data removed]",
      "text/plain": [
       "<Figure size 432x288 with 1 Axes>"
      ]
     },
     "metadata": {
      "needs_background": "light"
     },
     "output_type": "display_data"
    }
   ],
   "source": [
    "a = plt.axes(aspect='equal')\n",
    "\n",
    "plt.plot(test_predictions, label = 'test_predictions')\n",
    "plt.plot(test_labels, label = 'test_labels')\n",
    "\n",
    "\n",
    "plt.legend()\n",
    "\n",
    "lims = [0, 30]\n",
    "plt.xlim(lims)\n",
    "plt.ylim(lims)\n",
    "plt.plot(lims, lims)\n",
    "plt.show()"
   ]
  },
  {
   "cell_type": "code",
   "execution_count": null,
   "metadata": {},
   "outputs": [],
   "source": []
  }
 ],
 "metadata": {
  "kernelspec": {
   "display_name": "Python 3",
   "language": "python",
   "name": "python3"
  },
  "language_info": {
   "codemirror_mode": {
    "name": "ipython",
    "version": 3
   },
   "file_extension": ".py",
   "mimetype": "text/x-python",
   "name": "python",
   "nbconvert_exporter": "python",
   "pygments_lexer": "ipython3",
   "version": "3.8.5"
  }
 },
 "nbformat": 4,
 "nbformat_minor": 4
}
